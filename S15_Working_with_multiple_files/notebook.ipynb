{
 "cells": [
  {
   "cell_type": "markdown",
   "id": "dcd06172",
   "metadata": {},
   "source": [
    "# Modules and files"
   ]
  },
  {
   "cell_type": "markdown",
   "id": "728f2a1c",
   "metadata": {},
   "source": [
    "import os\n",
    "import sys"
   ]
  },
  {
   "cell_type": "code",
   "execution_count": 1,
   "id": "87987453",
   "metadata": {},
   "outputs": [
    {
     "ename": "SyntaxError",
     "evalue": "invalid syntax (1145423391.py, line 1)",
     "output_type": "error",
     "traceback": [
      "\u001b[0;36m  Cell \u001b[0;32mIn[1], line 1\u001b[0;36m\u001b[0m\n\u001b[0;31m    import <module>\u001b[0m\n\u001b[0m           ^\u001b[0m\n\u001b[0;31mSyntaxError\u001b[0m\u001b[0;31m:\u001b[0m invalid syntax\n"
     ]
    }
   ],
   "source": [
    "import <module>"
   ]
  },
  {
   "cell_type": "code",
   "execution_count": null,
   "id": "9031b3b4",
   "metadata": {},
   "outputs": [],
   "source": [
    "<modeule>.<element>"
   ]
  },
  {
   "cell_type": "code",
   "execution_count": null,
   "id": "31c981e8",
   "metadata": {},
   "outputs": [],
   "source": [
    "#import math --> math.pi"
   ]
  },
  {
   "cell_type": "code",
   "execution_count": 3,
   "id": "8c800c33",
   "metadata": {},
   "outputs": [
    {
     "name": "stdout",
     "output_type": "stream",
     "text": [
      "3.141592653589793\n",
      "-0.5215510020869119\n",
      "-0.4480736161291701\n"
     ]
    }
   ],
   "source": [
    "from math import *\n",
    "\n",
    "print(pi)\n",
    "print(sin(56))\n",
    "print(cos(90))"
   ]
  },
  {
   "cell_type": "markdown",
   "id": "bf12c9e5",
   "metadata": {},
   "source": [
    "# Absolute"
   ]
  },
  {
   "cell_type": "code",
   "execution_count": null,
   "id": "d3d52b6d",
   "metadata": {},
   "outputs": [],
   "source": [
    "import math\n",
    "import my_package.utils.helper"
   ]
  },
  {
   "cell_type": "markdown",
   "id": "d8ea6e26",
   "metadata": {},
   "source": [
    "# Relativa"
   ]
  },
  {
   "cell_type": "markdown",
   "id": "027d6397",
   "metadata": {},
   "source": [
    "from . import helper  # importa helper do mesmo diretório\n",
    "from ..utils import helper  # importa helper da pasta utils no diretório acima"
   ]
  },
  {
   "cell_type": "markdown",
   "id": "5e9c0b3e",
   "metadata": {},
   "source": [
    "Import statements:\n",
    "\n",
    "\n",
    "\n",
    "import <module>\n",
    "\n",
    "This import statement imports all the elements of the module.\n",
    "\n",
    "The elements (functions, classes, and variables) can be accessed with this syntax: <module>.<element>.\n",
    "\n",
    "\n",
    "\n",
    "from <module> import <elem>\n",
    "\n",
    "This import statement only imports the specified element from the module.\n",
    "\n",
    "We can use this element directly, without specifying the name of the module.\n",
    "\n",
    "\n",
    "\n",
    "from <module> import *\n",
    "\n",
    "This is a wildcard import statement. It imports all the elements from the module.\n",
    "\n",
    "We do not need to specify the name of the module to use or call the elements.\n",
    "\n",
    "\n",
    "\n",
    "\n",
    "\n",
    "import <module> as <name>\n",
    "\n",
    "This import statement is used to import a module with a different name, so we can use this new name in our code.\n",
    "\n",
    "The elements can be accessed with <name>.<elem>."
   ]
  },
  {
   "cell_type": "code",
   "execution_count": null,
   "id": "780dc1ea",
   "metadata": {},
   "outputs": [],
   "source": []
  }
 ],
 "metadata": {
  "kernelspec": {
   "display_name": "venv",
   "language": "python",
   "name": "python3"
  },
  "language_info": {
   "codemirror_mode": {
    "name": "ipython",
    "version": 3
   },
   "file_extension": ".py",
   "mimetype": "text/x-python",
   "name": "python",
   "nbconvert_exporter": "python",
   "pygments_lexer": "ipython3",
   "version": "3.10.12"
  }
 },
 "nbformat": 4,
 "nbformat_minor": 5
}
