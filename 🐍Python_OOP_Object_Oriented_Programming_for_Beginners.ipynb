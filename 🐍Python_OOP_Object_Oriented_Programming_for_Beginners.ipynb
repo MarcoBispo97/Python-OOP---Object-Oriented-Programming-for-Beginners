{
  "nbformat": 4,
  "nbformat_minor": 0,
  "metadata": {
    "colab": {
      "private_outputs": true,
      "provenance": [],
      "toc_visible": true
    },
    "kernelspec": {
      "name": "python3",
      "display_name": "Python 3"
    },
    "language_info": {
      "name": "python"
    }
  },
  "cells": [
    {
      "cell_type": "markdown",
      "source": [
        "# Section 3: Classes: The Blueprints of Object Oriented Programming (OOP)"
      ],
      "metadata": {
        "id": "X6btpI3oMZK-"
      }
    },
    {
      "cell_type": "markdown",
      "source": [
        "# Nova seção"
      ],
      "metadata": {
        "id": "ljyvFAqMRTpL"
      }
    },
    {
      "cell_type": "markdown",
      "source": [
        "# Nova seção"
      ],
      "metadata": {
        "id": "6V_7CvLsKtdi"
      }
    },
    {
      "cell_type": "markdown",
      "source": [
        "# Nova seção"
      ],
      "metadata": {
        "id": "PaUhj5f6KuZ-"
      }
    },
    {
      "cell_type": "markdown",
      "source": [
        "# Nova seção"
      ],
      "metadata": {
        "id": "Cg1WHULz8l-U"
      }
    },
    {
      "cell_type": "markdown",
      "source": [
        "## 🌟 Programming Paradigm  \n",
        "- 🛠️ An approach used to solve problems with code.  \n",
        "- 🎨 A style or 'way' of programming.  \n",
        "\n",
        "---\n",
        "\n",
        "## 🗂️ Common Programming Paradigms:  \n",
        "1. **Imperative 🖋️**  \n",
        "   - Focuses on *how* to perform tasks step-by-step.  \n",
        "   - **Examples:** C, Python, JavaScript (in procedural style).  \n",
        "\n",
        "2. **Functional 🔄**  \n",
        "   - Emphasizes functions, immutability, and avoiding side effects.  \n",
        "   - **Key Concepts:** First-class functions, higher-order functions, recursion.  \n",
        "   - **Examples:** Haskell, Lisp, Scala, Python (with functional libraries).  \n",
        "\n",
        "3. **Declarative 📜**  \n",
        "   - Focuses on *what* to achieve rather than *how* to do it.  \n",
        "   - **Examples:** SQL, HTML, React (in JSX).  \n",
        "\n",
        "4. **Logic 🧩**  \n",
        "   - Based on formal logic and rules.  \n",
        "   - Uses facts and rules to infer new information.  \n",
        "   - **Examples:** Prolog, Datalog.  \n",
        "\n",
        "---\n",
        "\n",
        "## 🧩 Object-Oriented Programming (OOP):  \n",
        "- 🛠️ A popular paradigm focusing on objects and classes to organize code.  \n",
        "\n",
        "### 🌟 Key Concepts of OOP:  \n",
        "1. 📢 **Message Passing:**  \n",
        "   - OOP is based on messages sent to objects, prompting them to perform actions.  \n",
        "\n",
        "2. 🗂️ **Objects:**  \n",
        "   - Have their own state (*attributes*) and behavior (*methods*).  \n",
        "   - **Example:** A `Car` object with attributes like `color` and `speed`, and methods like `accelerate()`.  \n",
        "\n",
        "3. 🏗️ **Class:**  \n",
        "   - Acts as a blueprint for creating objects; reusable as many times as needed.  \n",
        "   - **Example:** `class Car` defines the blueprint for creating car objects.  \n",
        "\n",
        "4. 🛠️ **State & Behavior:**  \n",
        "   - **State:** Defined by attributes (variables).  \n",
        "   - **Behavior:** Defined by methods (functions).  \n",
        "\n",
        "5. 🔄 **Encapsulation:**  \n",
        "   - Bundling data (attributes) and methods that operate on the data within a single unit (class).  \n",
        "   - Access is restricted using access modifiers (public, private, protected).  \n",
        "\n",
        "6. 🧬 **Inheritance:**  \n",
        "   - Mechanism to create new classes based on existing ones, promoting code reuse.  \n",
        "   - **Example:** `class ElectricCar(Car)` inherits attributes and methods from `Car`.  \n",
        "\n",
        "7. ⚖️ **Polymorphism:**  \n",
        "   - Allows objects to be treated as instances of their parent class.  \n",
        "   - **Example:** A function that takes a `Vehicle` parameter can accept both `Car` and `Bike` objects.  \n",
        "\n",
        "8. 🧩 **Abstraction:**  \n",
        "   - Hides complex implementation details and shows only the essential features.  \n",
        "   - **Example:** A `Car` object exposes methods like `drive()` without showing internal workings.  \n",
        "\n",
        "---\n",
        "\n",
        "## 🚀 Multi-Paradigm Approach:  \n",
        "- A single program can incorporate multiple paradigms for greater flexibility and efficiency.  \n",
        "- **Examples:**  \n",
        "   - **Python:** Supports object-oriented, imperative, functional, and procedural paradigms.  \n",
        "   - **JavaScript:** Supports object-oriented, functional, and event-driven paradigms.  \n",
        "\n",
        "---\n",
        "\n",
        "## 🏆 Advantages of OOP:  \n",
        "1. 🔄 **Reusability:**  \n",
        "   - Objects can be reused across programs, speeding up development and reducing costs.  \n",
        "   - **Example:** A `User` class in one project can be reused in another.  \n",
        "\n",
        "2. 🛠️ **Extensibility:**  \n",
        "   - Objects can be extended to include new attributes and behaviors without modifying existing code.  \n",
        "   - **Example:** Adding a `brake()` method to a `Car` class without changing other methods.  \n",
        "\n",
        "3. 🧩 **Modularity:**  \n",
        "   - Code is organized into separate classes/modules, making it easier to maintain and update.  \n",
        "\n",
        "4. 🛠️ **Maintainability:**  \n",
        "   - Changes in one part of the program have minimal impact on others.  \n",
        "   - Easier to find and fix bugs due to the modular structure.  \n",
        "\n",
        "5. 🚀 **Efficient Testing:**  \n",
        "   - More time and resources can be used to test individual modules (classes) thoroughly.  \n",
        "\n",
        "6. ⚖️ **Separation of Duties:**  \n",
        "   - Clear distinction between different parts of a program, enhancing code readability and collaboration.  \n",
        "\n",
        "---\n",
        "\n",
        "## 📋 Summary:  \n",
        "- **OOP** leverages classes and objects to build modular, maintainable, and reusable code.  \n",
        "- **Multi-paradigm** programming offers flexibility by combining different styles for optimal solutions.  \n",
        "- **Key Benefits:** Reusability, extensibility, modularity, maintainability, and efficient testing.  \n"
      ],
      "metadata": {
        "id": "8QlWF-Bnvzjo"
      }
    },
    {
      "cell_type": "markdown",
      "source": [
        "## 🍔 Problem Statement\n",
        "\n",
        "Our store serves **fast food** with a variety of options:  \n",
        "\n",
        "### 🥘 Items Sold\n",
        "- 🍕 **Pizza**  \n",
        "- 🍔 **Burgers**  \n",
        "- 🌭 **Hot Dogs**  \n",
        "- 🥤 **Soda**  \n",
        "- 🚰 **Water**  \n",
        "- 🍟 **French Fries**  \n",
        "\n",
        "### 🎉 Special Discount\n",
        "- Clients may choose to **buy one or more items**.  \n",
        "- If they **choose to buy more than one item**, they receive a **special discount of 20%**! 🎉  \n",
        "\n",
        "### 👥 Team\n",
        "- The store has **five employees** ready to serve you with a smile! 😊\n"
      ],
      "metadata": {
        "id": "pgdnOwoDwLO7"
      }
    },
    {
      "cell_type": "markdown",
      "source": [
        "## ❓ Questions\n",
        "\n",
        "1. 🤔 **Is this needed for the scope of the project?**  \n",
        "2. 🏷️ **Does the term represent an example of a class? If so, what class?**  \n",
        "3. 📋 **Is this important for the program that we are creating?**  \n"
      ],
      "metadata": {
        "id": "vHPJYIL4x-M7"
      }
    },
    {
      "cell_type": "code",
      "execution_count": null,
      "metadata": {
        "id": "A4ajRwKMY5Bl"
      },
      "outputs": [],
      "source": []
    },
    {
      "cell_type": "markdown",
      "source": [
        "## 🛒 **Problem Statement**\n",
        "\n",
        "Our electronics store sells:  \n",
        "- 💻 **Laptops**  \n",
        "- 🖥️ **Desktops**  \n",
        "- 📱 **Smartphones**  \n",
        "- 📚 **Notebooks**  \n",
        "- 📟 **Tablets**  \n",
        "- 🖋️ **Pen Drives**  \n",
        "- 🎧 **Headphones**  \n",
        "\n",
        "We also sell accessories for these devices.  \n",
        "The store has **10 employees** and **one manager**.  \n",
        "📋 **Clients** are registered when they make their first purchase.  \n"
      ],
      "metadata": {
        "id": "jPgdZsoyzZj9"
      }
    },
    {
      "cell_type": "code",
      "source": [],
      "metadata": {
        "id": "YXFXonL5zaDh"
      },
      "execution_count": null,
      "outputs": []
    },
    {
      "cell_type": "markdown",
      "source": [
        "## 🕹️ **Problem Statement**\n",
        "\n",
        "Our maze game will have **five levels**. The player will progress to the next level upon reaching the goal.\n",
        "\n",
        "There are two types of enemies:\n",
        "- 🐜 **Ants**\n",
        "- 🐸 **Toads**\n",
        "\n",
        "If the player collides with either of them, the level restarts 🔄 until the player has no more lives left ❌.\n"
      ],
      "metadata": {
        "id": "OyDxLLWc0L0W"
      }
    },
    {
      "cell_type": "code",
      "source": [],
      "metadata": {
        "id": "pdAbR3Gq0MPa"
      },
      "execution_count": null,
      "outputs": []
    },
    {
      "cell_type": "markdown",
      "source": [
        "## 📚 **Understanding Classes in Python**\n",
        "\n",
        "In Python, a **class** has two main parts, similar to functions:\n",
        "1. 🏷️ **Header:** Specifies the name of the class and if it inherits from another class.\n",
        "2. 🖇️ **Body:** Contains the implementation details like attributes and methods.\n",
        "\n",
        "---\n",
        "\n",
        "## 🏷️ **Class Definition**\n",
        "The **class definition** is the blueprint for creating objects. It specifies:\n",
        "- The **name** of the class.\n",
        "- Any **inheritance** from other classes.\n",
        "\n",
        "### 🖊️ **First Line of a Class Definition**\n",
        "The first line specifies:\n",
        "- The name of the class. 🏷️  \n",
        "- If it inherits from another class. 🧬\n",
        "\n",
        "---\n",
        "\n",
        "## 🛠️ **Key Elements of a Class**\n",
        "1. 📋 **Class Attributes:** Variables that store information shared across all instances of the class.\n",
        "2. 🔄 **`__init__()` (Constructor):** A special method that initializes object attributes when a new instance is created.\n",
        "3. ⚙️ **Methods:** Functions defined inside a class to perform actions using its attributes.\n",
        "\n",
        "---\n",
        "\n",
        "Using classes helps organize code efficiently and allows for **code reuse** through inheritance and methods! 🐍✨\n"
      ],
      "metadata": {
        "id": "MUVEHTnV0lte"
      }
    },
    {
      "cell_type": "markdown",
      "source": [
        "## 🏠 **Problem Statement**\n",
        "\n",
        "Our **animal shelter** cares for a variety of animals, including:\n",
        "- 🐕 **Dogs**\n",
        "- 🐈 **Cats**\n",
        "- 🦜 **Parrots**\n",
        "- 🦎 **Lizards**\n",
        "- 🐍 **Snakes**\n",
        "\n",
        "---\n",
        "\n",
        "## 👥 **Staff and Volunteers**\n",
        "- The shelter employs **six staff members** 🧑‍💼👩‍💼 who handle day-to-day tasks.  \n",
        "- Additionally, **volunteers** help the staff with caring for the animals and other duties. 🤝\n",
        "\n",
        "---\n",
        "\n",
        "## 💖 **Donors**\n",
        "- All **donors** are registered in the shelter's system to keep track of contributions and support. 🗂️\n",
        "\n",
        "---\n",
        "\n",
        "Our goal is to ensure the well-being of all animals and maintain smooth operations through the combined efforts of staff, volunteers, and generous donors! 🌟\n"
      ],
      "metadata": {
        "id": "hYxYAcGdIB34"
      }
    },
    {
      "cell_type": "code",
      "source": [
        "class Backpack:\n",
        "  pass"
      ],
      "metadata": {
        "id": "mBowQyTu16FL"
      },
      "execution_count": null,
      "outputs": []
    },
    {
      "cell_type": "markdown",
      "source": [
        "# 🏡 Section 4: Instances and Instance Attributes\n",
        "  🌟 What Are Instance Attributes?\n",
        "  \n",
        "  Instance attributes are unique to each object (or instance) created from a class.\n",
        "  \n",
        "  They can hold different values for each instance, making them independent of other objects.\n",
        "  \n",
        "  Example: Two house objects can have different numbers of rooms or prices.\n",
        "     🛠️ __init__(): The Special Method\n",
        "    __init__() is a constructor called automatically when an instance of a class is created.\n",
        "  \n",
        "  It is used to initialize instance attributes with specific values.\n",
        "  Without __init__(), you would need to define attributes manually for each object.\n",
        "  🔍 Example: Representing a House\n",
        "\n",
        "\n",
        "```\n",
        "class House:\n",
        "    def __init__(self, color, rooms, price):\n",
        "        self.color = color      # Instance attribute: color\n",
        "        self.rooms = rooms      # Instance attribute: rooms\n",
        "        self.price = price      # Instance attribute: price\n",
        "\n",
        "# Creating two independent instances\n",
        "house1 = House(\"Blue\", 3, 150000)\n",
        "house2 = House(\"Red\", 4, 200000)\n",
        "\n",
        "# Accessing unique attributes\n",
        "print(house1.color)  # Blue\n",
        "print(house2.color)  # Red\n",
        "\n",
        "```\n",
        "🟢 Key Points to Remember\n",
        "__init__() is called automatically when you create an instance.\n",
        "\n",
        "Instance attributes are unique to each object.\n",
        "\n",
        "Organized and safe: __init__() makes your code cleaner and less prone to errors.\n",
        "\n",
        "By using __init__() effectively, you can build flexible and well-organized\n",
        "\n",
        "object-oriented programs!\n",
        "\n",
        "\n"
      ],
      "metadata": {
        "id": "ltSlRUE7MPgY"
      }
    },
    {
      "cell_type": "markdown",
      "source": [
        "🐍 Python Parameter Best Practices 🐍\n",
        "◼️ Multiple Parameters\n",
        "One of the best practices is separating parameters with a comma and a space for better readability.\n",
        "\n",
        "❌ Not Recommended:\n",
        "The following code doesn’t have a space after each comma in the parameters list.\n",
        "The code will still work, but it will be harder to read.\n",
        "\n",
        "`def __init__(self,name,age):`\n",
        "\n",
        "✔️ Recommended:\n",
        "This follows the best practices. The parameters are separated by commas, and there’s a space after each comma.\n",
        "\n",
        "`def __init__(self, name, age):`\n",
        "\n",
        "◼️ 🐍 snake_case Naming Convention\n",
        "If the name of a parameter has multiple words, you should separate them with an underscore.\n",
        "\n",
        "This is known as the snake_case naming convention.\n",
        "\n",
        "✔️ Example:\n",
        "`def __init__(self, hair_color, eye_color, num_children):`\n",
        "\n",
        "◼️ 🛑 Name Clashes\n",
        "If the name of a parameter clashes with a Python keyword, you should add a trailing underscore to the parameter.\n",
        "\n",
        "✔️ Example:\n",
        "`def __init__(self, type_):`\n"
      ],
      "metadata": {
        "id": "iRi01wGrSamn"
      }
    },
    {
      "cell_type": "markdown",
      "source": [
        "## 🧐 Why use 'self'?  \n",
        "# Classes define the **state** and **behavior** of objects in a generic way. They are not specific.  \n",
        "# The code in a class must work for any instance of that class.  \n",
        "# 'self' is a generic way of referring to the **current instance** of the class.  \n",
        "# 👉 **Best Practice:** Always use 'self' for the first argument in instance methods.  \n",
        "\n",
        "# Example:\n",
        "```\n",
        "self.price = price  # 🏷️ Assigns the value of the 'price' parameter to the\n",
        "```\n",
        "'price' attribute of the instance.  \n",
        "# ✔️ An instance has been created.  \n",
        "# 🔸 'price' is a **parameter**.  \n",
        "# 🔸 'self.price' is an **attribute** of the instance.  \n",
        "\n",
        "# 📦 Example of a class with 'self'\n",
        "\n",
        "\n",
        "```\n",
        "class Backpack:\n",
        "    def __init__(self, color, size):\n",
        "        self.items = []     # 🎒 Creates an empty list to store items in the backpack.\n",
        "        self.color = color  # 🎨 Sets the color of the backpack based on the parameter.\n",
        "        self.size = size    # 📏 Sets the size of the backpack based on the parameter.\n",
        "```\n"
      ],
      "metadata": {
        "id": "KFsljHnlkMTo"
      }
    },
    {
      "cell_type": "markdown",
      "source": [
        "\n",
        "```\n",
        "class Car:\n",
        "    def __init__(self, brand, model):\n",
        "        self.brand = brand # 🟢 'self.brand' is an attribute\n",
        "        self.model = model # 🔵 'model' is a parameter\n",
        "\n",
        "car1 = Car(\"Toyota\", \"Corolla\")  # Instance\n",
        "car2 = Car(\"Honda\", \"Civic\")      # Instance\n",
        "\n",
        "```\n",
        "\n"
      ],
      "metadata": {
        "id": "ZWJLxBZcppFo"
      }
    },
    {
      "cell_type": "markdown",
      "source": [
        "## How to create Instances ?\n"
      ],
      "metadata": {
        "id": "dSppu7vmpNLY"
      }
    },
    {
      "cell_type": "code",
      "source": [
        "class Backpack:\n",
        "  def __init__(self):\n",
        "    self.items = []\n",
        "my_backpack = Backpack()\n",
        "print(my_backpack)"
      ],
      "metadata": {
        "id": "PEFvLLb2SaV3"
      },
      "execution_count": null,
      "outputs": []
    },
    {
      "cell_type": "markdown",
      "source": [
        "<__main__.Backpack object at 0x782ffb7e9510> datatype object and memory location coumputer"
      ],
      "metadata": {
        "id": "bGXy5NMWrBTI"
      }
    },
    {
      "cell_type": "markdown",
      "source": [
        "## <__main__.Backpack object at 0x782ffb7e9510> 🎒 Represents a Backpack object in memory.\n",
        "### ➡️ The hexadecimal value (0x782ffb7e9510) is the object's memory location."
      ],
      "metadata": {
        "id": "NNrz4WT2rUJJ"
      }
    },
    {
      "cell_type": "markdown",
      "source": [
        "## Creating Instances: `<ClassName>(<value>)`\n",
        "\n",
        "This pattern is used to create a new instance of a class.\n",
        "\n",
        "*   **`<ClassName>`:**  Replace this with the actual name of the class you're using (e.g., `Backpack`, `House`, etc.).\n",
        "*   **`<value>`:** Replace this with the values you want to pass to the class's `__init__` method (constructor) when creating the instance. These values will be used to initialize the object's attributes."
      ],
      "metadata": {
        "id": "iT6R5atrrcdc"
      }
    },
    {
      "cell_type": "code",
      "source": [
        "class Circle:\n",
        "  def __init__(self, radius):\n",
        "    self.radius = radius\n",
        "my_circle = Circle(5)\n",
        "print(my_circle)"
      ],
      "metadata": {
        "id": "S5KdO4zos5hP"
      },
      "execution_count": null,
      "outputs": []
    },
    {
      "cell_type": "markdown",
      "source": [
        "## Creating Instances: `<ClassName>(<arguments>)`\n",
        "# This heading clearly describes the topic: creating instances of classes.\n",
        "\n",
        "# This line explains the general pattern for creating instances: ClassName followed by parentheses containing arguments.\n",
        "# <ClassName> is a placeholder for the name of your class (e.g., Backpack, House).\n",
        "# <arguments> represents the values you pass to the class's __init__ method (constructor).\n",
        "\n",
        "# Consider adding a brief explanation of what __init__ is and its role in initializing object attributes.\n",
        "# For example: \"__init__ is a special method (constructor) called when an object is created. It's used to set up the object's initial state.\""
      ],
      "metadata": {
        "id": "EdpSuYbkubJU"
      }
    },
    {
      "cell_type": "code",
      "source": [
        "class Rectangle:\n",
        "  def __init__(self, length, width):\n",
        "    self.length = length\n",
        "    self.width = width\n",
        "my_rectangle = Rectangle(3, 6)\n",
        "print(my_rectangle)"
      ],
      "metadata": {
        "id": "w6nRbUAPuf4A"
      },
      "execution_count": null,
      "outputs": []
    },
    {
      "cell_type": "markdown",
      "source": [
        "## How to Access Instances and Attributes? 🔎\n",
        "\n",
        "### Dot Notation (`.`)\n",
        "This is the syntax used to access the members of an object (its variables and methods) using  `self.<attribute>`.  \n",
        "\n",
        "**Example: `Backpack` Class** 🎒"
      ],
      "metadata": {
        "id": "xMPnZMixzTWQ"
      }
    },
    {
      "cell_type": "code",
      "source": [
        "class Backpack:\n",
        "  def __init__(self):\n",
        "    self.items = []\n",
        "\n",
        "my_backpack = Backpack()\n",
        "print(my_backpack.items)"
      ],
      "metadata": {
        "id": "D7S2cVpyuwrE"
      },
      "execution_count": null,
      "outputs": []
    },
    {
      "cell_type": "markdown",
      "source": [
        "## Access instance attributes:"
      ],
      "metadata": {
        "id": "h3F6ZdCt1inO"
      }
    },
    {
      "cell_type": "code",
      "source": [
        "class Movie:\n",
        "  def __init__(self, title, year, language, rating):\n",
        "    self.title = title\n",
        "    self.year = year\n",
        "    self.language = language\n",
        "    self.rating = rating\n",
        "my_movie = Movie(\"The Matrix\", 1999, \"English\", \"PG-13\")\n",
        "your_favorite_movie = Movie(\"Forrest Gump\", 1994, \"English\", \"PG-13\")\n",
        "print(\"My favorie movie:\")\n",
        "print(my_movie.title)\n",
        "print(my_movie.year)\n",
        "print(my_movie.language)\n",
        "print(my_movie.rating)\n",
        "\n",
        "print(\"Your favorite movie:\")\n",
        "print(your_favorite_movie.title)\n",
        "print(your_favorite_movie.year)\n",
        "print(your_favorite_movie.language)\n",
        "print(your_favorite_movie.rating)\n"
      ],
      "metadata": {
        "id": "9gb6O-YU1Roq"
      },
      "execution_count": null,
      "outputs": []
    },
    {
      "cell_type": "markdown",
      "source": [
        "## Default Arguments\n",
        "Default values assigned to parameters when their corresponding arguments are ommited\n",
        "<parameter>=<value>\n"
      ],
      "metadata": {
        "id": "ALEqwbgQ3JAW"
      }
    },
    {
      "cell_type": "code",
      "source": [
        "class Circle:\n",
        "  def __init__(self, color, radius=5): #parameters\n",
        "    self.radius = radius #self.... atribbutes\n",
        "    self.color = color\n",
        "\n",
        "my_circle = Circle(color=\"Red\", 7)\n",
        "print(my_circle)\n",
        "print(my_circle.radius)"
      ],
      "metadata": {
        "id": "RWu9l5e0CU-D"
      },
      "execution_count": null,
      "outputs": []
    },
    {
      "cell_type": "code",
      "source": [
        "class Circle:\n",
        "  def __init__(self, color, radius=5): #parameters\n",
        "    self.radius = radius #self.... atribbutes\n",
        "    self.color = color\n",
        "\n",
        "my_circle = Circle(\"Red\", 7)\n",
        "print(my_circle)\n",
        "print(my_circle.radius)"
      ],
      "metadata": {
        "id": "TMVwGDRjBTPk"
      },
      "execution_count": null,
      "outputs": []
    },
    {
      "cell_type": "code",
      "source": [
        "class Circle:\n",
        "  def __init__(self, color, radius=5): #parameters\n",
        "    self.radius = radius #self.... atribbutes\n",
        "    self.color = color\n",
        "\n",
        "my_circle = Circle(color=\"Red\", radius=7)\n",
        "print(my_circle)\n",
        "print(my_circle.radius)"
      ],
      "metadata": {
        "id": "YACXDOsgBwNH"
      },
      "execution_count": null,
      "outputs": []
    },
    {
      "cell_type": "markdown",
      "source": [
        "## Best Practices for Default Arguments\n",
        "\n",
        "The Style Guide for Python Code (PEP 8) has an important suggestion for default arguments:\n",
        "\n",
        "Don’t use spaces around the = sign when used to indicate a keyword argument, or when used to indicate a default value for an unannotated function parameter.\n",
        "\n",
        "Recommended:\n",
        "\n",
        "This code follows the guideline:\n",
        "\n",
        "def __init__(self, name, age=10):\n",
        "\n",
        "Not recommended:\n",
        "\n",
        "However, this code doesn't follow the guidelines:\n",
        "\n",
        "def __init__(self, name, age = 10):\n",
        "\n",
        "There shouldn't be spaces around the equals sign."
      ],
      "metadata": {
        "id": "aP49F6tXCmOP"
      }
    },
    {
      "source": [
        "class MyClass:\n",
        "    def __init__(self, name, age=10):\n",
        "        # ✅ Recommended: Follows PEP 8 for default arguments. No spaces around =\n",
        "        self.name = name\n",
        "        self.age = age\n",
        "\n",
        "# ❌ Not Recommended: Spaces around = violate PEP 8.\n",
        "# def __init__(self, name, age = 10):\n",
        "#     pass"
      ],
      "cell_type": "code",
      "metadata": {
        "id": "aLmnVF05CxMR"
      },
      "execution_count": null,
      "outputs": []
    },
    {
      "cell_type": "markdown",
      "source": [],
      "metadata": {
        "id": "-XzDdLfqC3FV"
      }
    },
    {
      "cell_type": "markdown",
      "source": [
        "## Iterating Over Sequences of Objects"
      ],
      "metadata": {
        "id": "cw-7skP1DBad"
      }
    },
    {
      "source": [
        "# Working with Sequences of Instances 🔄\n",
        "# Store instances in lists or tuples 📝\n",
        "# Iterate using loops 🔁\n",
        "\n",
        "# 🔄 for Loops and Instances\n",
        "class Player:\n",
        "    def __init__(self, x, y):\n",
        "        self.x = x\n",
        "        self.y = y\n",
        "\n",
        "# Create instances (individually or with a loop) 🔄\n",
        "player1 = Player(5, 6)\n",
        "player2 = Player(2, 4)\n",
        "player3 = Player(3, 6)\n",
        "\n",
        "# Store instances in a list 📝\n",
        "players = [player1, player2, player3]\n",
        "\n",
        "# Iterate and access attributes/methods 🔁\n",
        "for player in players:\n",
        "    print(f\"X: {player.x} Y: {player.y}\")  # Output: X: 5 Y: 6, etc.\n",
        "\n",
        "# 🔎 Analyzing the for Loop\n",
        "# Each iteration assigns an instance to the loop variable (player) 🔄\n",
        "# Access instance attributes (player.x, player.y) within the loop 🧭\n",
        "# Example: Printing coordinates of each player 🖨️"
      ],
      "cell_type": "code",
      "metadata": {
        "id": "fOeHtEFaDLzy"
      },
      "execution_count": null,
      "outputs": []
    },
    {
      "cell_type": "markdown",
      "source": [
        "## How to Update Instance Attributes\n",
        "\n",
        "<object>.<attribue> = <new_value>\n",
        "\n",
        "Inside the Class:\n",
        "self.<attribute> = <new_value>\\\n"
      ],
      "metadata": {
        "id": "MAPS0X6-DaAA"
      }
    },
    {
      "cell_type": "code",
      "source": [
        "class Backpack:\n",
        "  def __init__(self, color):\n",
        "    self.items = []\n",
        "    self.color = color\n",
        "\n",
        "my_backpack = Backpack(\"Blue\")\n",
        "print(my_backpack.color)\n",
        "\n",
        "my_backpack.color = \"Green\"\n",
        "print(my_backpack.color)"
      ],
      "metadata": {
        "id": "qOmm6iykDdNO"
      },
      "execution_count": null,
      "outputs": []
    },
    {
      "cell_type": "code",
      "source": [
        "class Backpack:\n",
        "  def __init__(self, color):\n",
        "    self.items = []\n",
        "    self.color = color\n",
        "\n",
        "my_backpack = Backpack(\"Blue\")\n",
        "your_backpakc = Backpack(\"Red\")\n",
        "\n",
        "\n",
        "print(my_backpack.color)\n",
        "print(your_backpakc.color)\n",
        "\n",
        "\n",
        "print(\"Changing Color..\")\n",
        "my_backpack.color = 'Green'\n",
        "print(my_backpack.color)\n",
        "print(your_backpakc.color)\n"
      ],
      "metadata": {
        "id": "e99pP1S_Epdh"
      },
      "execution_count": null,
      "outputs": []
    },
    {
      "cell_type": "code",
      "source": [
        "class Circle:\n",
        "  def __init__(self, radius, color):\n",
        "    self.radius = radius\n",
        "    self.color = color\n",
        "\n",
        "my_circle = Circle(6, \"Yellow\")\n",
        "\n",
        "print(my_circle.radius)\n",
        "print(my_circle.color)\n",
        "\n",
        "my_circle.color = \"Red\"\n",
        "my_circle.radius = 10\n",
        "print(my_circle.radius)\n",
        "print(my_circle.color)"
      ],
      "metadata": {
        "id": "4TvzEeg5LDp9"
      },
      "execution_count": null,
      "outputs": []
    },
    {
      "cell_type": "markdown",
      "source": [
        "## 🔥 How to Delete an Instance Attribute in Python\n",
        "Just like you can add and update instance attributes, you can also delete them.\n",
        "\n",
        "There are two ways to do this in Python. Let's explore both! 🚀\n",
        "\n",
        "## 🗑️ Delete Instance Attributes with `del`\n",
        "\n",
        "To delete a specific instance attribute, you can use the `del` keyword:"
      ],
      "metadata": {
        "id": "6vUBhGkjSnQ6"
      }
    },
    {
      "cell_type": "code",
      "source": [
        "# Syntax:\n",
        "del instance.attribute"
      ],
      "metadata": {
        "id": "y_832P2zTm5s"
      },
      "execution_count": null,
      "outputs": []
    },
    {
      "cell_type": "markdown",
      "source": [
        "**Example 🐶**\n",
        "\n",
        "First, let's define a `Dog` class:"
      ],
      "metadata": {
        "id": "vMQVWVH0StJU"
      }
    },
    {
      "cell_type": "code",
      "source": [
        "class Dog:\n",
        "    def __init__(self, name):\n",
        "        self.name = name\n",
        "\n",
        "# Create an instance\n",
        "dog = Dog(\"Nora\")\n",
        "\n",
        "# Before deletion, check if it has the `name` attribute\n",
        "print(dog.name)  # Output: 'Nora'\n",
        "\n",
        "# Delete the attribute\n",
        "del dog.name\n",
        "\n",
        "# Trying to access it now will raise an error\n",
        "try:\n",
        "    print(dog.name)\n",
        "except AttributeError as e:\n",
        "    print(e)  # Output: AttributeError: 'Dog' object has no attribute 'name'"
      ],
      "metadata": {
        "id": "_5wHvoOTSolH"
      },
      "execution_count": null,
      "outputs": []
    },
    {
      "cell_type": "markdown",
      "source": [
        "✅ The error confirms that the attribute was successfully deleted!\n",
        "\n",
        "⚠️ Note: With del, you can only delete attributes using fixed names, not dynamically."
      ],
      "metadata": {
        "id": "tbdIaHaoTsMK"
      }
    },
    {
      "cell_type": "markdown",
      "source": [
        "🔄 Delete Instance Attributes with delattr()\n",
        "\n",
        "To delete attributes dynamically based on a variable, use Python’s built-in delattr() function:"
      ],
      "metadata": {
        "id": "9Xa74VNYTuG1"
      }
    },
    {
      "cell_type": "code",
      "source": [
        "# Syntax:\n",
        "delattr(instance, attribute)"
      ],
      "metadata": {
        "id": "rNTO6UJVTwSF"
      },
      "execution_count": null,
      "outputs": []
    },
    {
      "cell_type": "markdown",
      "source": [
        "Example 🎮\n",
        "\n",
        "Define a Player class:"
      ],
      "metadata": {
        "id": "QzIthm8bT2hf"
      }
    },
    {
      "cell_type": "code",
      "source": [
        "class Player:\n",
        "    def __init__(self, x, y):\n",
        "        self.x = x\n",
        "        self.y = y\n",
        "\n",
        "# Create an instance\n",
        "player = Player(6, 8)\n",
        "\n",
        "# Define a list of attributes (as strings)\n",
        "attributes = ['x', 'y']\n",
        "\n",
        "# Iterate over them and delete dynamically\n",
        "for attribute in attributes:\n",
        "    delattr(player, attribute)\n",
        "\n",
        "# Trying to access them now will raise an error\n",
        "for attribute in attributes:\n",
        "    try:\n",
        "        print(getattr(player, attribute))\n",
        "    except AttributeError as e:\n",
        "        print(e)  # Output: AttributeError: 'Player' object has no attribute 'x' and 'y'"
      ],
      "metadata": {
        "id": "8VLtUK0zT24b"
      },
      "execution_count": null,
      "outputs": []
    },
    {
      "cell_type": "markdown",
      "source": [
        "✅ The errors confirm the attributes were successfully deleted!\n",
        "\n",
        "⚡ delattr() allows you to delete attributes dynamically, making it more flexible than del."
      ],
      "metadata": {
        "id": "o-stIJU1T7m4"
      }
    },
    {
      "cell_type": "markdown",
      "source": [
        "🎯 Summary"
      ],
      "metadata": {
        "id": "UsBDVaW1T8-P"
      }
    },
    {
      "cell_type": "code",
      "source": [
        "class Example:\n",
        "    def __init__(self):\n",
        "        self.fixed = \"I am fixed\"\n",
        "        self.dynamic = \"I can be removed dynamically\"\n",
        "\n",
        "example = Example()\n",
        "\n",
        "# Using del\n",
        "del example.fixed\n",
        "\n",
        "# Using delattr\n",
        "delattr(example, 'dynamic')"
      ],
      "metadata": {
        "id": "IuT-TMnqT8BI"
      },
      "execution_count": null,
      "outputs": []
    },
    {
      "cell_type": "markdown",
      "source": [
        "✨ Great! Now you know how to delete an instance attribute using del and delattr(). Happy coding! 🐍🚀"
      ],
      "metadata": {
        "id": "6qbrO_uEUBJx"
      }
    },
    {
      "cell_type": "code",
      "source": [
        "class Donut:\n",
        "\n",
        "    def __init__(self, size, calories, flavor):\n",
        "        self.size = size\n",
        "        self.calories = calories\n",
        "        self.flavor = flavor\n",
        "\n",
        "my_donut = Donut(\"Medium\", 125, \"Chocolate\")\n",
        "\n",
        "print(my_donut.price)"
      ],
      "metadata": {
        "id": "ciRwQW3kUL0L"
      },
      "execution_count": null,
      "outputs": []
    },
    {
      "cell_type": "markdown",
      "source": [
        "class Ticket:\n",
        "\n",
        "    def __init__(self, price=1.25):\n",
        "        self.price = price\n",
        "        \n",
        "my_ticket = Ticket()\n",
        "print(f\"my_ticket: {my_ticket.price}\")"
      ],
      "metadata": {
        "id": "AZpHnoJrVKDn"
      }
    },
    {
      "cell_type": "code",
      "source": [
        "class Ticket:\n",
        "\n",
        "    def __init__(self, price=1.25):\n",
        "        self.price = price\n",
        "\n",
        "my_ticket = Ticket()\n",
        "print(f\"my_ticket: {my_ticket.price}\")"
      ],
      "metadata": {
        "id": "xpzOGQ2GVKyJ"
      },
      "execution_count": null,
      "outputs": []
    },
    {
      "cell_type": "markdown",
      "source": [
        "#Section 5: Class Attributes: Define Attributes Shared Across Instances\n",
        "\n",
        "class attributes belong to the class not belong to the instances\n",
        "\n",
        "all instances of the class have access to this attribute\n",
        "\n",
        "they share the same value, so any changes made to this value affects all instances"
      ],
      "metadata": {
        "id": "pCQ_ypEU8m5d"
      }
    },
    {
      "cell_type": "markdown",
      "source": [
        "## Class Attributes vs. Instance Attributes\n",
        "\n",
        "Let's review key differences between class attributes and instance attributes:\n",
        "\n",
        "◼️ Class Attributes\n",
        "They belong to the class itself.\n",
        "\n",
        "Changing their value affects all the instances of the class because they take the value from the same source.\n",
        "\n",
        "◼️ Instance Attributes\n",
        "They belong to the instances.\n",
        "\n",
        "Every instance has its own, independent, copy of the attribute.\n",
        "\n",
        "Changing their value only affects a particular instance. Other instances are not modified."
      ],
      "metadata": {
        "id": "fIBhoTHR9eCe"
      }
    },
    {
      "cell_type": "markdown",
      "source": [
        "When to Use Class Attributes\n",
        "\n",
        "Class attributes are helpful when you need to share a value across all the instances of a class.\n",
        "\n",
        "Let's explore some of their use cases.\n",
        "\n",
        "◼️ Defining Constants\n",
        "A common use case is storing constants that are very closely related to the class.\n",
        "\n",
        "In this example, the Earth class has three class attributes, which are constants that are very closely related to the class, so it makes sense to store them under the same structure.\n",
        "\n",
        "class Earth:\n",
        "    MEAN_RADIUS = 6371\n",
        "    EQUATORIAL_RADIUS = 6378.1\n",
        "    EQUATORIAL_CIRCUMFERENCE = 40075.017\n",
        "\n",
        "\n",
        "💡 Tip: In Python, there's a naming convention of writing variables that should act like constants in uppercase to signal that their values should not be modified. You may choose to follow this naming convention (or not) based on your personal preferences and the standards followed by your team.\n",
        "\n",
        "\n",
        "\n",
        "◼️ Setting Default Values\n",
        "You can also use class attribute if you need to set a default value for all the instances of the class.\n",
        "\n",
        "For example, this IceCream class has a discount class attribute.\n",
        "\n",
        "The value of discount will be 15 by default.\n",
        "\n",
        "But if a custom value is passed for the discount when the instance is created, the custom value is assigned instead.\n",
        "\n",
        "class IceCream:\n",
        "\n",
        "    discount = 15\n",
        "\n",
        "    def __init__(self, discount=None):\n",
        "        if discount is not None:\n",
        "            self.discount = discount\n",
        "\n",
        "\n",
        "◼️ Counting Instances\n",
        "Also, if you need to know how many instances of a class have been created, you can use a class attribute to keep track of the counter.\n",
        "\n",
        "You should update this counter when you create an instance of the class to make sure that every id will be unique.\n",
        "\n",
        "In this example, we have a Customer class with a customer_id class attribute.\n",
        "\n",
        "When a new instance is created and initialized, the current value of customer_id is assigned to the id of the instance and then it's incremented by 1, so the next instance will have the updated id.\n",
        "\n",
        "class Customer:\n",
        "\n",
        "    customer_id = 0\n",
        "\n",
        "    def __init__(self, name):\n",
        "        self.name = name\n",
        "        self.id = Customer.customer_id\n",
        "        Customer.customer_id += 1\n",
        "\n",
        "\n",
        "✨ Now you know some of the most common use cases of class attributes."
      ],
      "metadata": {
        "id": "Zt5h14TE-gH6"
      }
    },
    {
      "cell_type": "code",
      "source": [
        "class Dog:\n",
        "\n",
        "  species = \"Canis Lupus\"\n",
        "\n",
        "  def __init__(self, name, age, breed):\n",
        "    self.name = name\n",
        "    self.age = age\n",
        "    self.breed = breed\n",
        "\n",
        "dog1 = Dog(\"Buddy\", 3, \"Golden Retriever\")\n",
        "dog2 = Dog(\"Max\", 5, \"Labrador Retriever\")\n",
        "\n",
        "class Backpack:\n",
        "\n",
        "  max_num_items = 10\n",
        "\n",
        "  def __init__(self, color):\n",
        "    self.items = []\n",
        "    self.color = color\n",
        "\n",
        "my_backpack = Backpack(\"Blue\")\n",
        "your_backpakc = Backpack(\"Red\")"
      ],
      "metadata": {
        "id": "UvsCIzU2-fBx"
      },
      "execution_count": null,
      "outputs": []
    },
    {
      "cell_type": "markdown",
      "source": [
        "## How to Access class attribute ?"
      ],
      "metadata": {
        "id": "AngCm-DGChkO"
      }
    },
    {
      "cell_type": "code",
      "source": [
        "class Dog:\n",
        "\n",
        "  species = \"Canis Lupus\"\n",
        "\n",
        "  def __init__(self, name, age, breed):\n",
        "    self.name = name\n",
        "    self.age = age\n",
        "    self.breed = breed\n",
        "print(Dog)\n",
        "print(Dog.species)"
      ],
      "metadata": {
        "id": "zDgsSlEA-X9E"
      },
      "execution_count": null,
      "outputs": []
    },
    {
      "cell_type": "code",
      "source": [
        "class Movie:\n",
        "\n",
        "  id_counter = 1\n",
        "\n",
        "  def __init__(self, title, year, language, rating):\n",
        "    self.title = title\n",
        "    self.year = year\n",
        "    self.language = language\n",
        "    self.rating = rating\n",
        "    self.id = Movie.id_counter\n",
        "    Movie.id_counter += 1\n",
        "\n",
        "my_movie = Movie(\"The Matrix\", 1999, \"English\", 9.2)\n",
        "print(my_movie.id)\n",
        "your_movie = Movie(\"The Matrix Reloaded\", 2003, \"English\", 8.5)\n",
        "print(your_movie.id)"
      ],
      "metadata": {
        "id": "dpjApMGw8tWf"
      },
      "execution_count": null,
      "outputs": []
    },
    {
      "cell_type": "code",
      "source": [
        "class Backpack:\n",
        "\n",
        "  max_num_items = 10\n",
        "\n",
        "  def __init__(self):\n",
        "    self.items = []\n",
        "\n",
        "my_backpack = Backpack()\n",
        "your_backpakc = Backpack()\n",
        "\n",
        "print(my_backpack.max_num_items)\n",
        "print(your_backpakc.max_num_items)\n",
        "print(Backpack.max_num_items)"
      ],
      "metadata": {
        "id": "2tQLkv56KcVs"
      },
      "execution_count": null,
      "outputs": []
    },
    {
      "cell_type": "markdown",
      "source": [
        "## Changing the value of a class attribute will affect all instances of the class"
      ],
      "metadata": {
        "id": "NQZKvQYJL3j0"
      }
    },
    {
      "cell_type": "code",
      "source": [
        "class Circle:\n",
        "  radius = 5\n",
        "\n",
        "  def __init__(self, color):\n",
        "    self.color = color\n",
        "\n",
        "print(Circle.radius)\n",
        "\n",
        "my_circle = Circle(\"Blue\")\n",
        "your_circle = Circle(\"Green\")\n",
        "\n",
        "print(my_circle.radius)\n",
        "print(your_circle.radius)\n",
        "\n",
        "Circle.radius = 10\n",
        "\n",
        "print(Circle.radius)\n",
        "print(my_circle.radius)\n",
        "print(your_circle.radius)"
      ],
      "metadata": {
        "id": "s-mjrhIJL80I"
      },
      "execution_count": null,
      "outputs": []
    },
    {
      "cell_type": "code",
      "source": [
        "class Pizza:\n",
        "\n",
        "  price = 12.99\n",
        "\n",
        "  def __init__(self, description, toppings, crust):\n",
        "    self.description = description\n",
        "    self.toppings = toppings\n",
        "    self.crus = crust\n",
        "\n",
        "print(Pizza.price)\n",
        "\n",
        "my_pizza = Pizza(\"Margherita\", [\"Cheese\", \"Tomato\"], \"Thin\")\n",
        "print(my_pizza.price)\n",
        "Pizza.price = 13.99\n",
        "\n",
        "print(Pizza.price)\n",
        "print(my_pizza.price)"
      ],
      "metadata": {
        "id": "IdKjxu_9MzGJ"
      },
      "execution_count": null,
      "outputs": []
    },
    {
      "cell_type": "code",
      "source": [],
      "metadata": {
        "id": "oErdAtDuQJ3b"
      },
      "execution_count": null,
      "outputs": []
    },
    {
      "cell_type": "markdown",
      "source": [
        "# Section 6: Encapsulation and Abstraction:\n",
        "## Gey Principles of OOO"
      ],
      "metadata": {
        "id": "DazAtjVaKvhd"
      }
    },
    {
      "cell_type": "markdown",
      "source": [
        "# Understanding Encapsulation with Emojis\n",
        "\n",
        "Encapsulation is a concept in **Object-Oriented Programming (OOP)** that means **\"hiding\" the internal details** of an object and only allowing access to the necessary parts.\n",
        "\n",
        "---\n",
        "\n",
        "### 💊 Imagine a Medicine Capsule\n",
        "\n",
        "The capsule keeps the medicine (data) inside it.  \n",
        "You can only use the medicine in a **controlled** way.  \n",
        "You can't open it and mess with the formula directly! 😅\n",
        "\n",
        "---\n",
        "\n",
        "### 🏦 A Safe Box Example\n",
        "\n",
        "Imagine a **safe (object)**:\n",
        "\n",
        "- 🧰 **Private data** → stored inside the safe.  \n",
        "- 🔑 **Public methods** → buttons on the safe to interact with it (open, close, check balance, etc.).\n",
        "\n",
        "---\n",
        "\n",
        "### 👩‍💻 In Code Practice:\n",
        "\n",
        "```python\n",
        "class BankAccount:\n",
        "    def __init__(self, balance):\n",
        "        self.__balance = balance  # ⛔ private balance\n",
        "\n",
        "    def check_balance(self):  # ✅ public method\n",
        "        return self.__balance\n",
        "\n",
        "    def deposit(self, amount):  # ✅ public method\n",
        "        if amount > 0:\n",
        "            self.__balance += amount\n",
        "\n",
        "    def withdraw(self, amount):  # ✅ public method\n",
        "        if 0 < amount <= self.__balance:\n",
        "            self.__balance -= amount\n"
      ],
      "metadata": {
        "id": "NH7Dpr27M5P3"
      }
    },
    {
      "cell_type": "markdown",
      "source": [
        "## 🧠 Abstraction in Python\n",
        "\n",
        "### 🔍 What is Abstraction?\n",
        "\n",
        "**Abstraction** means showing only the **essential attributes** and **hiding unnecessary details** from the user.\n",
        "\n",
        "It helps to:\n",
        "- Simplify complex systems 🤯\n",
        "- Avoid repetition 🔁\n",
        "- Focus on *what* an object does, not *how* it does it 👀\n",
        "\n",
        "📦 Example:  \n",
        "You can use a **coffee machine** ☕ by pressing a button — you don’t need to know how it heats the water or grinds the beans.\n",
        "\n",
        "---\n",
        "\n",
        "### 👨‍💻 Abstraction in Python (with Abstract Classes)\n",
        "\n",
        "We use the `abc` module to create **abstract base classes**.\n",
        "\n",
        "```python\n",
        "from abc import ABC, abstractmethod\n",
        "\n",
        "class Animal(ABC):\n",
        "    @abstractmethod\n",
        "    def make_sound(self):\n",
        "        pass\n",
        "\n",
        "class Dog(Animal):\n",
        "    def make_sound(self):\n",
        "        return \"Bark!\"\n",
        "\n",
        "class Cat(Animal):\n",
        "    def make_sound(self):\n",
        "        return \"Meow!\"\n",
        "\n",
        "\n"
      ],
      "metadata": {
        "id": "Wsrh5ZTJNauU"
      }
    },
    {
      "cell_type": "code",
      "source": [
        "class User:\n",
        "    def __init__(self, name, password):\n",
        "        self.name = name              # 🔓 public\n",
        "        self.__password = password    # 🔒 private\n",
        "\n",
        "    def login(self, input_password):\n",
        "        return self.__password == input_password\n"
      ],
      "metadata": {
        "id": "v1XL6ynXK7wG"
      },
      "execution_count": null,
      "outputs": []
    },
    {
      "cell_type": "code",
      "source": [
        "class Car:\n",
        "    def __init__(self, brand, model, year):\n",
        "        self.brand = brand       # 🔓 public\n",
        "        self._model = model      # 🟡 protected (convenção)\n",
        "        self.__year = year       # 🔒 private (name mangling)\n",
        "\n",
        "my_car = Car(\"Toyota\", \"Camry\", 2022)\n",
        "\n",
        "print(my_car.brand)       # ✅ Works: \"Toyota\"\n",
        "print(my_car._model)      # ⚠️ Works, but discouraged: \"Camry\"\n",
        "#print(my_car.__year)      # ❌ AttributeError!\n",
        "\n"
      ],
      "metadata": {
        "id": "AdI68_MvPK9X"
      },
      "execution_count": null,
      "outputs": []
    },
    {
      "cell_type": "markdown",
      "source": [
        "## 🔒 Non-Public Attributes in Python\n",
        "\n",
        "In Python, we have **two ways** to define attributes that **should not be accessed directly** from outside the class:\n",
        "\n",
        "---\n",
        "\n",
        "### 1️⃣ By Convention → `_attribute`\n",
        "\n",
        "- A single underscore `_` is a **convention**, not enforced by Python.\n",
        "- It means: \"**This is internal. Please don’t touch it unless you know what you’re doing.**\"\n",
        "- Used when an attribute is intended for internal use within the class or subclass.\n",
        "\n",
        "```python\n",
        "class Example:\n",
        "    def __init__(self):\n",
        "        self._internal_value = 42  # ⚠️ Non-public by convention\n"
      ],
      "metadata": {
        "id": "MtJhkeQtP6AC"
      }
    },
    {
      "cell_type": "code",
      "source": [
        "class Car:\n",
        "    def __init__(self, brand, model, year):\n",
        "        self.brand = brand       # 🔓 public\n",
        "        self._model = model      # 🟡 protected (convenção)\n",
        "        self.__year = year       # 🔒 private (name mangling)\n",
        "\n",
        "my_car = Car(\"Toyota\", \"Camry\", 2022)\n",
        "\n",
        "print(my_car.brand)       # ✅ Works: \"Toyota\"\n",
        "print(my_car.year)      # ⚠️ Works, but discouraged: \"Camry\""
      ],
      "metadata": {
        "id": "7pppnHVqP5dB"
      },
      "execution_count": null,
      "outputs": []
    },
    {
      "cell_type": "code",
      "source": [
        "class Car:\n",
        "    def __init__(self, brand, model, year):\n",
        "        self.brand = brand       # 🔓 public\n",
        "        self._model = model      # 🟡 protected (convenção)\n",
        "        self._year = year       # 🔒 private (name mangling)\n",
        "\n",
        "my_car = Car(\"Toyota\", \"Camry\", 2022)\n",
        "\n",
        "print(my_car.brand)       # ✅ Works: \"Toyota\"\n",
        "print(my_car._year)      # ⚠️ Works, but discouraged: \"Camry\""
      ],
      "metadata": {
        "id": "Si-0C6gNRQFX"
      },
      "execution_count": null,
      "outputs": []
    },
    {
      "cell_type": "code",
      "source": [
        "class Student:\n",
        "  def __init__(self, name, age, grade):\n",
        "    self.name = name\n",
        "    self._age = age\n",
        "    self.__grade = grade\n",
        "\n",
        "student1 = Student(\"Alice\", 16, \"A\")\n",
        "print(student1.name)\n",
        "print(student1._age)\n",
        "print(student1._Student__grade)\n",
        "#"
      ],
      "metadata": {
        "id": "GLluSIqhMGaq"
      },
      "execution_count": null,
      "outputs": []
    },
    {
      "cell_type": "code",
      "source": [
        "class Movie:\n",
        "\n",
        "  id_counter = 1\n",
        "\n",
        "  def __init__(self, title, year, language, rating): # Changed the first parameter to self\n",
        "    #self._id = id  # This line might not be needed, depending on your intent.\n",
        "    self.title = title\n",
        "    self.year = year\n",
        "    self.language = language\n",
        "    self.rating = rating\n",
        "    self._id = Movie.id_counter\n",
        "    Movie.id_counter += 1\n",
        "\n",
        "my_movie = Movie(\"The Matrix\", 1999, \"English\", 9.2)\n",
        "print(my_movie._id)\n",
        "your_movie = Movie(\"The Matrix Reloaded\", 2003, \"English\", 8.5)\n",
        "print(your_movie._id)\n",
        "#"
      ],
      "metadata": {
        "id": "67MYWv6mOQ-Q"
      },
      "execution_count": null,
      "outputs": []
    },
    {
      "cell_type": "markdown",
      "source": [
        "# 📚 Section 7: Properties, Getters, and Setters in Python - Learn to use `@property`\n",
        "\n",
        "## 🔎 Getters and Setters\n",
        "- Understand how to control access to class attributes.\n",
        "- Protect data and enforce rules when getting or setting values.\n",
        "\n",
        "## 🛠️ Use Cases\n",
        "- Validation before setting a value.\n",
        "- Computed properties based on other attributes.\n",
        "- Making a class easier to use and maintain.\n",
        "\n",
        "## 🏡 Properties in Python\n",
        "- Simplify getter and setter methods with the `@property` decorator.\n",
        "- Keep your code clean and Pythonic!\n",
        "\n",
        "## ⚔️ `@property` vs `.property()`\n",
        "- `@property`: Modern, cleaner syntax with decorators.\n",
        "- `.property()`: Manual, traditional method still available.\n"
      ],
      "metadata": {
        "id": "iY-lon1jRUzd"
      }
    },
    {
      "cell_type": "markdown",
      "source": [
        "## ✨ Introduction to Getting and Setting\n",
        "\n",
        "Methods are like functions that are associated with a specific object or class.\n",
        "\n",
        "**Getters** and **setters** allow us to **access** and **modify** the values of instance attributes safely.\n",
        "\n",
        "- **Getters** → Retrieve the value of an attribute.\n",
        "- **Setters** → Update or modify the value of an attribute.\n",
        "\n",
        "They **protect** the attributes by providing an **indirect way** to access and change them, helping to maintain control and consistency.\n",
        "\n",
        "By using getters and setters, we can make attributes **non-public** (i.e., private or protected) and still offer a **safe way** to interact with them.\n",
        "\n",
        "\n"
      ],
      "metadata": {
        "id": "_0smFqGGTmme"
      }
    },
    {
      "cell_type": "markdown",
      "source": [
        "## 🔎 Getters\n",
        "\n",
        "- A common convention is to name getter methods as:  \n",
        "  `get_ + <attribute_name>`\n",
        "\n",
        "### 📝 Examples:\n",
        "- `get_name`\n",
        "- `get_address`\n",
        "- `get_color`\n",
        "- `get_age`\n",
        "- `get_id`\n",
        "\n",
        "Getters allow you to safely retrieve the value of an attribute while maintaining control over how that value is accessed."
      ],
      "metadata": {
        "id": "fXLub0q2U0sq"
      }
    },
    {
      "cell_type": "markdown",
      "source": [
        "# 🎯 Why use a `get`?\n",
        "\n",
        "## 🔒 Protection\n",
        "It prevents other parts of the code from directly modifying the attribute.\n",
        "\n",
        "## ⚙️ Control\n",
        "In the future, you can add rules (e.g., validate or format the title) inside the getter.\n",
        "\n",
        "## 🧹 Organization\n",
        "It keeps the code cleaner and more modular.\n",
        "\n"
      ],
      "metadata": {
        "id": "ZivcHOnCYQa0"
      }
    },
    {
      "cell_type": "code",
      "source": [
        "class Movie:\n",
        "  def __init__(self, title, rating):\n",
        "    self._title = title #(Protected Attribute)\n",
        "    #self.__title = title #(Private Attribute)\n",
        "    self.rating = rating\n",
        "\n",
        "  def get_title(self):\n",
        "    return self._title\n",
        "\n",
        "my_movie = Movie(\"The Matrix\", 9.2)\n",
        "print(my_movie.get_title())"
      ],
      "metadata": {
        "id": "qwmFGC6uVSKJ"
      },
      "execution_count": null,
      "outputs": []
    },
    {
      "cell_type": "markdown",
      "source": [
        "## 🛠️ Setters: Methods to Set the Value of an Instance Attribute\n",
        "\n",
        "With setters, we can **validate** the new value before assigning it to the attribute.  \n",
        "This ensures that the attribute always holds valid data and allows for additional logic during the assignment process.\n",
        "\n",
        "### Naming Convention:\n",
        "Setter methods are commonly named as:  \n",
        "`set_ + <attribute_name>`\n",
        "\n",
        "### 📝 Examples:\n",
        "- `set_name`\n",
        "- `set_address`\n",
        "- `set_color`\n",
        "- `set_age`\n",
        "- `set_id`\n",
        "\n",
        "Setters give you the flexibility to enforce rules, such as checking if a value is within a certain range or format before actually setting the attribute."
      ],
      "metadata": {
        "id": "f1RwpTDsbEMy"
      }
    },
    {
      "cell_type": "code",
      "source": [
        "class Dog:\n",
        "\n",
        "  def __init__(self, name):\n",
        "    self._name = name\n",
        "\n",
        "  def get_name(self):\n",
        "    return self._name\n",
        "\n",
        "  def set_name(self, new_name):\n",
        "    if  isinstance(new_name, str) and  new_name.isalpha():\n",
        "      self._name = new_name\n",
        "    else:\n",
        "      print(\"Error: Name must be a string.\")\n",
        "    self._name = new_name\n",
        "\n",
        "my_dog = Dog(\"Buddy\")\n",
        "print(my_dog.get_name())\n",
        "my_dog.set_name(\"Max\")\n",
        "print(my_dog.get_name())\n",
        "my_dog.set_name(123)\n",
        "my_dog.set_name(\"!@#\")"
      ],
      "metadata": {
        "id": "TiXdeOQnVTTe"
      },
      "execution_count": null,
      "outputs": []
    },
    {
      "cell_type": "markdown",
      "source": [
        "## Examples getters and setters"
      ],
      "metadata": {
        "id": "S6jZ3zopdIqM"
      }
    },
    {
      "cell_type": "code",
      "source": [
        "class Backpack:\n",
        "  def __init__(self):\n",
        "    self._items = []\n",
        "\n",
        "  def get_items(self):\n",
        "    return self._items\n",
        "\n",
        "  def set_items(self, new_items):\n",
        "    if isinstance(new_items, list):\n",
        "      self._items = new_items\n",
        "    else:\n",
        "      print(\"Error: Items must be a list.\")\n",
        "\n",
        "  def add_item(self, item):\n",
        "    if item not in self._items:\n",
        "      self._items.append(item)\n",
        "\n",
        "my_backpack = Backpack()\n",
        "print(my_backpack.get_items())\n",
        "my_backpack.set_items([\"Laptop\", \"Phone\"])\n",
        "print(my_backpack.get_items())\n",
        "my_backpack.add_item(\"Tablet\")\n",
        "print(my_backpack.get_items())"
      ],
      "metadata": {
        "id": "xkFMxgsUcLs8"
      },
      "execution_count": null,
      "outputs": []
    },
    {
      "cell_type": "code",
      "source": [
        "class Circle:\n",
        "  def __init__(self, radius):\n",
        "    self._radius = radius\n",
        "\n",
        "  def get_radius(self):\n",
        "    return self._radius\n",
        "\n",
        "  def set_radius(self, new_radius):\n",
        "    if isinstance(new_radius, (int, float)) and new_radius > 0:\n",
        "      self._radius = new_radius\n",
        "    else:\n",
        "      print(\"Error: Radius must be a positive number.\")\n",
        "\n",
        "my_cricle = Circle(5.0)\n",
        "print(my_circle.get_radius())\n"
      ],
      "metadata": {
        "id": "_wn3-pDWd6MK"
      },
      "execution_count": null,
      "outputs": []
    },
    {
      "cell_type": "markdown",
      "source": [
        "## 📝 Properties\n",
        "Getters + Setters: control access to attributes\n",
        "\n",
        "Better alternative: use @property\n",
        "\n",
        "non-public attribute + getter + setter"
      ],
      "metadata": {
        "id": "7EhvltAPkO4p"
      }
    },
    {
      "cell_type": "code",
      "source": [
        "class Dog:\n",
        "    def __init__(self, age):\n",
        "        self.__age = age  # non-public attribute\n",
        "\n",
        "    def get_age(self):\n",
        "        return self.__age\n",
        "\n",
        "    def set_age(self, age):\n",
        "        if isinstance(age, int) and 0 < age < 30:\n",
        "            self.__age = age\n",
        "        else:\n",
        "            print(\"Please enter a valid age\")\n",
        "\n",
        "my_dog = Dog(8)\n",
        "print(my_dog.get_age())\n",
        "my_dog.set_age(12)\n",
        "print(my_dog.get_age())\n",
        "my_dog.set_age(35)"
      ],
      "metadata": {
        "id": "BcMCK8phlL1R"
      },
      "execution_count": null,
      "outputs": []
    },
    {
      "cell_type": "markdown",
      "source": [
        "<property_name> = property(<getter>, <setter>)"
      ],
      "metadata": {
        "id": "1yIPKuwdoh43"
      }
    },
    {
      "cell_type": "code",
      "source": [
        "class Dog:\n",
        "  def __init__(self, age):\n",
        "    self._age = age\n",
        "\n",
        "  def get_age(self):\n",
        "    print(\"Calling gatter...\")\n",
        "    return self._age\n",
        "\n",
        "  def set_age(self, age):\n",
        "    print(\"Calling setter...\")\n",
        "    if isinstance(age, int) and 0 < age < 30:\n",
        "      self._age = age\n",
        "    else:\n",
        "      print(\"Please enter a valid age\")\n",
        "\n",
        "  age = property(get_age, set_age)\n",
        "\n",
        "my_dog = Dog(8)\n",
        "\n",
        "print(my_dog.age)\n",
        "print(\"One more year\")\n",
        "my_dog.age += 1\n",
        "print(my_dog.age)\n"
      ],
      "metadata": {
        "id": "jrNZL5IiowhO"
      },
      "execution_count": null,
      "outputs": []
    },
    {
      "cell_type": "code",
      "source": [
        "class Circle:\n",
        "  def __init__(self, radius):\n",
        "    self._radius = radius\n",
        "\n",
        "  def get_radius(self):\n",
        "    print(\"Getting radius...\")\n",
        "    return self._radius\n",
        "\n",
        "  def set_radius(self, new_radius):\n",
        "    print(\"Setting radius...\")\n",
        "    if isinstance(new_radius, (int, float)) and new_radius > 0:\n",
        "      self._radius = new_radius\n",
        "    else:\n",
        "      print(\"Error: Radius must be a positive number.\")\n",
        "\n",
        "  radius = property(get_radius, set_radius)\n",
        "\n",
        "  def get_color(self):\n",
        "    return self.get_color\n",
        "\n",
        "  def set_color(self, new_color):\n",
        "    if isinstance(new_color, str):\n",
        "      self._color = new_color\n",
        "    else:\n",
        "      print(\"Error: Color must be a string.\")\n",
        "\n",
        "  color = property(get_color, set_color)\n"
      ],
      "metadata": {
        "id": "pj84dZMsoxdn"
      },
      "execution_count": null,
      "outputs": []
    },
    {
      "cell_type": "code",
      "source": [
        "class Circle:\n",
        "\n",
        "  VALID_COLORS = (\"Red\", \"Green\", \"Blue\")\n",
        "\n",
        "  def __init__(self, radius, color):\n",
        "    self._radius = radius\n",
        "    self._color = color\n",
        "\n",
        "  def get_radius(self):\n",
        "    print(\"Getting radius...\")\n",
        "    return self._radius\n",
        "\n",
        "  def set_radius(self, new_radius):\n",
        "    print(\"Setting radius...\")\n",
        "    if isinstance(new_radius, (int, float)) and new_radius > 0:\n",
        "      self._radius = new_radius\n",
        "    else:\n",
        "      print(\"Error: Radius must be a positive number.\")\n",
        "\n",
        "  radius = property(get_radius, set_radius)\n",
        "\n",
        "  def get_color(self):\n",
        "    return self.get_color\n",
        "\n",
        "  def set_color(self, new_color):\n",
        "    if new_color in Circle.VALID_COLORS:\n",
        "      self._color = new_color\n",
        "    else:\n",
        "      print(\"Error: Color must be one of the following:\", Circle.VALID_COLORS)\n",
        "\n",
        "  color = property(get_color, set_color)\n",
        "\n",
        "#Radius\n",
        "my_circle = Circle(10, \"Blue\")\n",
        "print(my_circle.radius)\n",
        "my_circle.radius = 20\n",
        "print(my_circle.radius)\n",
        "my_circle.radius = 0\n",
        "print(my_circle.radius)\n",
        "\n",
        "#Color\n",
        "print(my_circle.color)\n",
        "my_circle.color = 'Red'\n",
        "print(my_circle.color)"
      ],
      "metadata": {
        "id": "yMOMlykNCAjT"
      },
      "execution_count": null,
      "outputs": []
    },
    {
      "cell_type": "markdown",
      "source": [
        "## 🧪 Exercício de POO com `@property`, `getter` e `setter` em Python\n",
        "\n",
        "## 🎯 Objetivo\n",
        "\n",
        "Praticar os conceitos de encapsulamento, acesso controlado a atributos e uso de propriedades (`@property`, `@getter`, `@setter`) em Python orientado a objetos.\n",
        "\n",
        "---\n",
        "\n",
        "## 🧱 Classe: `Produto`\n",
        "\n",
        "Crie uma classe chamada `Produto` com os seguintes requisitos:\n",
        "\n",
        "### 📦 Atributos:\n",
        "- `nome`: string — nome do produto\n",
        "- `_preco`: float — **privado**, representa o preço original\n",
        "- `_desconto`: float — **privado**, representa a porcentagem de desconto (ex: 0.1 para 10%)\n",
        "\n",
        "---\n",
        "\n",
        "## ⚙️ Regras de Negócio\n",
        "\n",
        "### ✅ `@property preco`:\n",
        "- Deve retornar o preço final com desconto aplicado.\n",
        "\n",
        "### ✅ `@preco.setter`:\n",
        "- Deve permitir alterar o preço original.\n",
        "- Deve **lançar um erro** se o novo preço for negativo.\n",
        "\n",
        "### ✅ `@property desconto`:\n",
        "- Deve retornar o valor do desconto aplicado.\n",
        "\n",
        "### ✅ `@desconto.setter`:\n",
        "- Deve permitir alterar o desconto aplicado.\n",
        "- Deve garantir que o desconto esteja no intervalo entre `0` e `0.5`.\n",
        "- Se estiver fora desse intervalo, deve lançar `ValueError`.\n",
        "\n",
        "---\n",
        "\n",
        "## 🔍 Exemplo de Uso Esperado:\n",
        "\n",
        "```python\n",
        "p = Produto(\"Camiseta\", 100)\n",
        "print(p.preco)         # Saída: 100.0\n",
        "\n",
        "p.desconto = 0.2\n",
        "print(p.preco)         # Saída: 80.0\n",
        "\n",
        "p.preco = 120\n",
        "print(p.preco)         # Saída: 96.0 (120 com 20% de desconto)\n",
        "\n",
        "p.desconto = 0.6       # Deve lançar: ValueError(\"Desconto não pode ser maior que 50%\")\n"
      ],
      "metadata": {
        "id": "idH2Z9o_fpiL"
      }
    },
    {
      "cell_type": "code",
      "source": [
        "class Produto:\n",
        "    def __init__(self, nome, preco, desconto):\n",
        "        self.nome = nome\n",
        "        self._preco = preco           # Corrigido: era _preco (sem variável definida)\n",
        "        self._desconto = desconto          # Inicializa com desconto 0\n",
        "\n",
        "    @property\n",
        "    def preco(self):\n",
        "        return self._preco * (1 - self._desconto)\n",
        "\n",
        "    @preco.setter\n",
        "    def preco(self, novo_preco):\n",
        "        if novo_preco < 0:\n",
        "            raise ValueError(\"Preço não pode ser negativo\")\n",
        "        self._preco = novo_preco\n",
        "\n",
        "    @property\n",
        "    def desconto(self):\n",
        "        return self._desconto\n",
        "\n",
        "    @desconto.setter\n",
        "    def desconto(self, novo_desconto):\n",
        "        if not 0 <= novo_desconto <= 0.5:\n",
        "            raise ValueError(\"Desconto não pode ser maior que 50%\")\n",
        "        self._desconto = novo_desconto\n",
        "\n",
        "p = Produto(\"Camiseta\", 100, 0.1)\n",
        "print(p.preco)         # Saída: 100.0\n",
        "\n",
        "p.desconto = 0.2\n",
        "print(p.preco)         # Saída: 80.0\n",
        "\n",
        "p.preco = 120\n",
        "print(p.preco)         # Saída: 96.0 (120 com 20% de desconto)\n",
        "\n",
        "p.desconto = 0.6       # Deve lançar: ValueError(\"Desconto não pode ser maior que 50%\")"
      ],
      "metadata": {
        "id": "qmPfOkRMJzl4"
      },
      "execution_count": null,
      "outputs": []
    },
    {
      "cell_type": "code",
      "source": [],
      "metadata": {
        "id": "DryJ-qZyguu4"
      },
      "execution_count": null,
      "outputs": []
    },
    {
      "cell_type": "code",
      "source": [
        "\n",
        "\n"
      ],
      "metadata": {
        "id": "0LayWJdjDD-V"
      },
      "execution_count": null,
      "outputs": []
    },
    {
      "cell_type": "code",
      "source": [
        "class Backpack:\n",
        "  def __init__(self):\n",
        "    self._items = []\n",
        "\n",
        "  @property\n",
        "  def items(self):\n",
        "    return self._items\n",
        "\n",
        "  def add_item(self, item):\n",
        "    if item not in self._items:\n",
        "      self._items.append(item)\n",
        "    else:\n",
        "      print(f\"{item} is already in the backpack.\")\n",
        "\n",
        "my_backpack = Backpack()\n",
        "print(my_backpack.items)\n",
        "my_backpack.add_item(\"Laptop\")\n",
        "print(my_backpack.items)"
      ],
      "metadata": {
        "id": "qqAkfM5qB4UM"
      },
      "execution_count": null,
      "outputs": []
    },
    {
      "cell_type": "code",
      "source": [
        "class Backpack:\n",
        "  def __init__(self):\n",
        "    self._items = []\n",
        "\n",
        "  #@property\n",
        "  def items(self):\n",
        "    return self._items\n",
        "\n",
        "  def add_item(self, item):\n",
        "    if item not in self._items:\n",
        "      self._items.append(item)\n",
        "    else:\n",
        "      print(f\"{item} is already in the backpack.\")\n",
        "\n",
        "my_backpack = Backpack()\n",
        "print(my_backpack.items)\n",
        "my_backpack.add_item(\"Laptop\")\n",
        "print(my_backpack.items)"
      ],
      "metadata": {
        "id": "1ulkZ41VCDqj"
      },
      "execution_count": null,
      "outputs": []
    },
    {
      "cell_type": "code",
      "source": [
        "class Backpack:\n",
        "  def __init__(self):\n",
        "    self._items = []\n",
        "\n",
        "  @property\n",
        "  def items(self):\n",
        "    return self._items\n",
        "\n",
        "  def add_item(self, item):\n",
        "    if isinstance(item, str):\n",
        "      self._items.append(item)\n",
        "    else:\n",
        "      print(\"Error: Item must be a string.\")\n",
        "\n",
        "  def has_item(self, item):\n",
        "    return item in self._items\n",
        "\n",
        "  def show_items(self, sorted_list=False):\n",
        "    if sorted_list:\n",
        "      print(sorted(self._items))\n",
        "    else:\n",
        "      print(self._items)\n",
        "\n",
        "my_backpack = Backpack()\n",
        "print(my_backpack.items)\n",
        "my_backpack.add_item(\"Laptop\")\n",
        "print(my_backpack.items)\n",
        "my_backpack.add_item(\"Phone\")\n",
        "print(my_backpack.items)\n",
        "my_backpack.add_item(123)\n",
        "print(my_backpack.items)\n",
        "print(my_backpack.has_item(\"Laptop\"))\n"
      ],
      "metadata": {
        "id": "a9fwjR6SCQxr"
      },
      "execution_count": null,
      "outputs": []
    },
    {
      "cell_type": "markdown",
      "source": [
        "## How to call a method from another method ?\n",
        "\n",
        "Reuse functionality that you already implemented in the class\n"
      ],
      "metadata": {
        "id": "D8ZrNFIJDM5O"
      }
    },
    {
      "cell_type": "code",
      "source": [
        "class Backpack:\n",
        "\n",
        "  def __init__(self):\n",
        "    self._items = []\n",
        "\n",
        "  @property\n",
        "  def items(self):\n",
        "    return self._items\n",
        "\n",
        "  def add_multiple_items(self, items):\n",
        "    for item in items:\n",
        "      self.add_item(item)\n",
        "\n",
        "  def add_item(self, item):\n",
        "    if isinstance(item, str):\n",
        "      self._items.append(item)\n",
        "    else:\n",
        "      print(\"Pealse provide a valid item.\")\n",
        "\n",
        "  def remove_items(self, items):\n",
        "    for item in items:\n",
        "      self.remove_item(item)\n",
        "\n",
        "  def remove_item(self, item):\n",
        "    if item in self._items:\n",
        "      self._items.remove(item)\n",
        "    else:\n",
        "      print(f\"{item} is not in the backpack.\")\n",
        "\n",
        "\n",
        "my_backpack = Backpack()\n",
        "print(my_backpack.items)\n",
        "my_backpack.add_multiple_items([\"Laptop\", \"Phone\", \"Tablet\"])\n",
        "print(my_backpack.items)\n",
        "my_backpack.remove_items([\"Laptop\", \"Tablet\"])\n",
        "print(my_backpack.items)\n",
        "\n"
      ],
      "metadata": {
        "id": "NIdlyu9UCtgX"
      },
      "execution_count": null,
      "outputs": []
    },
    {
      "cell_type": "code",
      "source": [],
      "metadata": {
        "id": "SzWaPcHEFUbG"
      },
      "execution_count": null,
      "outputs": []
    },
    {
      "cell_type": "markdown",
      "source": [
        "# 📦 Composition in Python (with emojis!)\n",
        "\n",
        "## What is composition?\n",
        "\n",
        "👉 **Composition** means that one object **contains** another object.  \n",
        "This is called a **has-a** relationship.\n",
        "\n",
        "For example:\n",
        "- An **employee** has a **vehicle**.\n",
        "- A **computer** has a **motherboard**.\n",
        "- A **car** has an **engine**.\n",
        "\n",
        "In composition:\n",
        "- One class **uses** another class, **but does not inherit** from it.\n",
        "- You create separate objects and connect them together.\n",
        "\n",
        "---\n",
        "\n",
        "## 🛠️ Example code\n",
        "\n",
        "Here’s the code we wrote:\n",
        "\n",
        "```python\n",
        "class Vehicle:\n",
        "\n",
        "    def __init__(self, color, license_plate, is_eletric):\n",
        "        self.color = color\n",
        "        self.license_plate = license_plate\n",
        "        self.is_eletric = is_eletric\n",
        "\n",
        "    def show_license_plate(self):\n",
        "        print(f\"License plate: {self.license_plate}\")\n",
        "\n",
        "    def show_color(self):\n",
        "        print(f\"Color: {self.color}\")\n",
        "\n",
        "    def show_is_eletric(self):\n",
        "        print(f\"Is eletric: {self.is_eletric}\")\n",
        "\n",
        "    def show_info(self):\n",
        "        print('My vehicle:')\n",
        "        print(f\"Color: {self.color}\")\n",
        "        print(f\"License plate: {self.license_plate}\")\n",
        "        print(f\"Is eletric: {self.is_eletric}\")\n",
        "\n",
        "class Employee:\n",
        "\n",
        "    def __init__(self, name, vehicle):\n",
        "        self.name = name\n",
        "        self.vehicle = vehicle\n",
        "\n",
        "    def show_vehicle_info(self):\n",
        "        print(f\"Name: {self.name}\")\n",
        "        self.vehicle.show_info()\n",
        "\n",
        "\n",
        "vehicle = Vehicle(\"Red\", \"ABC-1234\", True)\n",
        "employee = Employee(\"John\", vehicle)\n",
        "employee.show_vehicle_info()\n",
        "\n",
        "print(employee.vehicle)\n",
        "\n",
        "employee.show_vehicle_info()\n",
        "employee.vehicle.show_license_plate()\n",
        "employee.vehicle.show_color()\n",
        "employee.vehicle.show_is_eletric()\n"
      ],
      "metadata": {
        "id": "8k0kQwLU3T3L"
      }
    },
    {
      "cell_type": "code",
      "source": [
        "class Vehicle:\n",
        "\n",
        "  def __init__(self, color, license_plate, is_eletric):\n",
        "    self.color = color\n",
        "    self.license_plate = license_plate\n",
        "    self.is_eletric = is_eletric\n",
        "\n",
        "  def show_license_plate(self):\n",
        "    print(f\"License plate: {self.license_plate}\")\n",
        "\n",
        "  def show_color(self):\n",
        "    print(f\"Color: {self.color}\")\n",
        "\n",
        "  def show_is_eletric(self):\n",
        "    print(f\"Is eletric: {self.is_eletric}\")\n",
        "\n",
        "  def show_info(self):\n",
        "    print('My vihicle:')\n",
        "    print(f\"Color: {self.color}\")\n",
        "    print(f\"License plate: {self.license_plate}\")\n",
        "    print(f\"Is eletric: {self.is_eletric}\")\n",
        "\n",
        "class Employee:\n",
        "\n",
        "  def __init__(self, name, vehicle):\n",
        "    self.name = name\n",
        "    self.vehicle = vehicle\n",
        "\n",
        "  def show_vehicle_info(self):\n",
        "    print(f\"Name: {self.name}\")\n",
        "    self.vehicle.show_info()\n",
        "\n",
        "\n",
        "vehicle = Vehicle(\"Red\", \"ABC-1234\", True)\n",
        "employee = Employee(\"John\", vehicle)\n",
        "employee.show_vehicle_info()\n",
        "\n",
        "print(employee.vehicle)\n",
        "\n",
        "\n",
        "employee.show_vehicle_info()\n",
        "employee.vehicle.show_license_plate()\n",
        "employee.vehicle.show_color()\n",
        "employee.vehicle.show_is_eletric()"
      ],
      "metadata": {
        "id": "ilUh-nefkex6"
      },
      "execution_count": null,
      "outputs": []
    },
    {
      "cell_type": "code",
      "source": [],
      "metadata": {
        "id": "FBTq5Vtc3Afz"
      },
      "execution_count": null,
      "outputs": []
    },
    {
      "cell_type": "code",
      "source": [],
      "metadata": {
        "id": "uswItv9DmiL_"
      },
      "execution_count": null,
      "outputs": []
    }
  ]
}