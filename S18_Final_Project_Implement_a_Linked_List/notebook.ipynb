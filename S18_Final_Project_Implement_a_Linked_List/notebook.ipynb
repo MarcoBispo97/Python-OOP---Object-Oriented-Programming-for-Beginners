{
 "cells": [
  {
   "cell_type": "markdown",
   "id": "2863379c",
   "metadata": {},
   "source": [
    "## Organizing Data with Data Structures\n",
    "\n",
    "Data can be organized in a linear way, connected and annotated.  \n",
    "Data structures act like glue, keeping elements connected.  \n",
    "Each structure has its own advantages and disadvantages, especially regarding speed and efficiency.\n",
    "\n",
    "**Choosing a Data Structure:**  \n",
    "Consider the pros and cons of each data structure based on the specific problem you are solving.\n",
    "\n",
    "---\n",
    "\n",
    "## Why is OOP Important?\n",
    "\n",
    "Object-Oriented Programming (OOP) is like the backbone of code.  \n",
    "It helps organize elements, data, connections, and operations in a structured way.\n",
    "\n",
    "---\n",
    "\n",
    "## Examples of Data Structures\n",
    "\n",
    "- Arrays and Lists\n",
    "- Trees\n",
    "- Graphs\n",
    "- Linked Lists\n",
    "\n",
    "---\n",
    "\n",
    "## Nodes and Pointers\n",
    "\n",
    "- A node typically stores two main elements: **data** and **connections**.\n",
    "- A pointer is a reference from one node to another node in the data structure.\n",
    "- In singly linked lists, each node points to the next node, but you cannot go back to the previous"
   ]
  },
  {
   "cell_type": "code",
   "execution_count": null,
   "id": "da7f8931",
   "metadata": {
    "vscode": {
     "languageId": "plaintext"
    }
   },
   "outputs": [],
   "source": []
  }
 ],
 "metadata": {
  "language_info": {
   "name": "python"
  }
 },
 "nbformat": 4,
 "nbformat_minor": 5
}
