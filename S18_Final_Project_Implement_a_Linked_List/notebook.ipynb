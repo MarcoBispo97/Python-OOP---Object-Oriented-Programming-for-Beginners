{
 "cells": [
  {
   "cell_type": "markdown",
   "id": "2863379c",
   "metadata": {},
   "source": [
    "Datal we can orginized in a linear way, connect and make notes, data structures, like a glue, to keeps elements connected, advantages e desvantages, seppd, \n",
    "TO choose we nedd to consider the pros and cons of each data structure based on the problem\n",
    "\n",
    "Why is OOP importante ?\n",
    "It is like the backbone in code, elements, data, connections, operations,\n",
    "\n",
    "Examples:\n",
    "\n",
    "arrays and lists\n",
    "trees\n",
    "graphs\n",
    "linked lists\n",
    "\n",
    "Node can store tow main elements, data and connections\n",
    "Pointer one node has other node we can not go back\n",
    "\n",
    "A pointer reference to another node in the data structure\n"
   ]
  },
  {
   "cell_type": "code",
   "execution_count": null,
   "id": "da7f8931",
   "metadata": {
    "vscode": {
     "languageId": "plaintext"
    }
   },
   "outputs": [],
   "source": []
  }
 ],
 "metadata": {
  "language_info": {
   "name": "python"
  }
 },
 "nbformat": 4,
 "nbformat_minor": 5
}
