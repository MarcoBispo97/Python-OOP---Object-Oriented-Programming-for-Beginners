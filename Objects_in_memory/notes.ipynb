{
 "cells": [
  {
   "cell_type": "markdown",
   "id": "b55b4746",
   "metadata": {},
   "source": [
    "# In Python, everything is an object"
   ]
  },
  {
   "cell_type": "markdown",
   "id": "92a774b7",
   "metadata": {},
   "source": [
    "print(objetc)"
   ]
  },
  {
   "cell_type": "markdown",
   "id": "242b7be6",
   "metadata": {},
   "source": []
  },
  {
   "cell_type": "code",
   "execution_count": 1,
   "id": "f65ef40a",
   "metadata": {},
   "outputs": [
    {
     "name": "stdout",
     "output_type": "stream",
     "text": [
      "<class 'object'>\n"
     ]
    }
   ],
   "source": [
    "print(object)"
   ]
  },
  {
   "cell_type": "code",
   "execution_count": 2,
   "id": "a8d2ea7c",
   "metadata": {},
   "outputs": [
    {
     "name": "stdout",
     "output_type": "stream",
     "text": [
      "True\n"
     ]
    }
   ],
   "source": [
    "print(isinstance(object, type))"
   ]
  },
  {
   "cell_type": "code",
   "execution_count": 4,
   "id": "6105d78e",
   "metadata": {},
   "outputs": [
    {
     "name": "stdout",
     "output_type": "stream",
     "text": [
      "True\n"
     ]
    }
   ],
   "source": [
    "print(isinstance(5, object))"
   ]
  },
  {
   "cell_type": "code",
   "execution_count": 5,
   "id": "a6eaa102",
   "metadata": {},
   "outputs": [
    {
     "name": "stdout",
     "output_type": "stream",
     "text": [
      "True\n"
     ]
    }
   ],
   "source": [
    "print(isinstance([1,2,3,5], object))"
   ]
  },
  {
   "cell_type": "code",
   "execution_count": 6,
   "id": "e889fce2",
   "metadata": {},
   "outputs": [
    {
     "name": "stdout",
     "output_type": "stream",
     "text": [
      "True\n"
     ]
    }
   ],
   "source": [
    "print(isinstance({'Hello':'Word'}, object))"
   ]
  },
  {
   "cell_type": "code",
   "execution_count": 3,
   "id": "516eaf22",
   "metadata": {},
   "outputs": [
    {
     "name": "stdout",
     "output_type": "stream",
     "text": [
      "False\n"
     ]
    }
   ],
   "source": [
    "print(isinstance(5, type))"
   ]
  },
  {
   "cell_type": "code",
   "execution_count": 7,
   "id": "d39cf18e",
   "metadata": {},
   "outputs": [
    {
     "name": "stdout",
     "output_type": "stream",
     "text": [
      "True\n"
     ]
    }
   ],
   "source": [
    "def f(x):\n",
    "    return x*2\n",
    "\n",
    "print(isinstance(f, object))"
   ]
  },
  {
   "cell_type": "code",
   "execution_count": 8,
   "id": "c4f70b21",
   "metadata": {},
   "outputs": [
    {
     "name": "stdout",
     "output_type": "stream",
     "text": [
      "True\n"
     ]
    }
   ],
   "source": [
    "class Movie:\n",
    "    def __init__(self, title):\n",
    "        self.title = title\n",
    "\n",
    "    def __str__(self):\n",
    "        return self.title\n",
    "    \n",
    "print(isinstance(Movie, object))"
   ]
  },
  {
   "cell_type": "markdown",
   "id": "1c1ca40e",
   "metadata": {},
   "source": [
    "## Variables in Python store references to objects in memory\n",
    "## When there are no references to the object in the program, the object is deleted from memory"
   ]
  },
  {
   "cell_type": "markdown",
   "id": "549e5c46",
   "metadata": {},
   "source": [
    "# Gabage collection:\n",
    "O Garbage Collection (GC) em Python é um mecanismo automático de gerenciamento de memória que tem como objetivo liberar memória ocupada por objetos que não são mais utilizados no programa, evitando vazamentos de memória (memory leaks).\n",
    "\n",
    "🧠 Como funciona?\n",
    "Python usa principalmente um sistema de contagem de referências:\n",
    "\n",
    "Cada objeto tem um contador de quantas vezes ele está sendo referenciado.\n",
    "\n",
    "Quando esse contador chega a zero (ou seja, ninguém mais usa o objeto), a memória é automaticamente liberada.\n",
    "\n",
    "No entanto, esse sistema não é suficiente para detectar referências circulares (quando dois ou mais objetos referenciam uns aos outros, mas nenhum é usado fora desse ciclo). Por isso, o Python também tem um coletor de lixo (garbage collector) baseado em gerações.\n",
    "\n"
   ]
  },
  {
   "cell_type": "markdown",
   "id": "b370c54d",
   "metadata": {},
   "source": [
    "# 🔍 `id()` Function in Python\n",
    "\n",
    "The `id()` function returns the **unique identifier** (memory address) of an object in Python.\n",
    "\n",
    "---\n",
    "\n",
    "## 📖 Definition and Usage\n",
    "\n",
    "- `id(object)`  \n",
    "  Returns the **identity** of an object. This identity is unique and constant for the object during its lifetime.\n",
    "\n",
    "---\n",
    "\n",
    "## 💡 Key Points\n",
    "\n",
    "- Every object in Python has its own unique ID.\n",
    "- The ID is assigned when the object is created.\n",
    "- The returned ID is typically the **memory address** of the object (implementation-dependent).\n",
    "- IDs are **guaranteed to be unique** for different objects during their lifetime.\n",
    "\n",
    "---\n",
    "\n",
    "## 📌 Note on Small Integers\n",
    "\n",
    "In some Python implementations (like CPython), **integers from -5 to 256** are **preallocated** and **reused**.  \n",
    "Therefore, they may have the **same ID** across different parts of the code:\n",
    "\n",
    "```python\n",
    "a = 100\n",
    "b = 100\n",
    "print(id(a) == id(b))  # True\n",
    "\n",
    "\n"
   ]
  },
  {
   "cell_type": "markdown",
   "id": "dc69968c",
   "metadata": {},
   "source": []
  },
  {
   "cell_type": "code",
   "execution_count": 12,
   "id": "aa3b1950",
   "metadata": {},
   "outputs": [
    {
     "name": "stdout",
     "output_type": "stream",
     "text": [
      "139870009508368\n",
      "139869543169136\n",
      "139869542878080\n",
      "139869532708864\n"
     ]
    }
   ],
   "source": [
    "print(id(10))\n",
    "print(id('Hello World'))\n",
    "print(id([1,2,3,4,5]))\n",
    "print(id([1,2,3,4,5]))"
   ]
  },
  {
   "cell_type": "code",
   "execution_count": 13,
   "id": "f48364e0",
   "metadata": {},
   "outputs": [
    {
     "name": "stdout",
     "output_type": "stream",
     "text": [
      "139869542673296\n",
      "139869542667296\n"
     ]
    }
   ],
   "source": [
    "class Backpack:\n",
    "    def __init__(self):\n",
    "        self.items = []\n",
    "\n",
    "    @property\n",
    "    def item_count(self):\n",
    "        return self._items\n",
    "    \n",
    "my_backpack = Backpack()\n",
    "your_backpack = Backpack()\n",
    "\n",
    "print(id(my_backpack))\n",
    "print(id(your_backpack))"
   ]
  },
  {
   "cell_type": "code",
   "execution_count": null,
   "id": "da5d6fba",
   "metadata": {},
   "outputs": [],
   "source": []
  }
 ],
 "metadata": {
  "kernelspec": {
   "display_name": "venv",
   "language": "python",
   "name": "python3"
  },
  "language_info": {
   "codemirror_mode": {
    "name": "ipython",
    "version": 3
   },
   "file_extension": ".py",
   "mimetype": "text/x-python",
   "name": "python",
   "nbconvert_exporter": "python",
   "pygments_lexer": "ipython3",
   "version": "3.10.12"
  }
 },
 "nbformat": 4,
 "nbformat_minor": 5
}
