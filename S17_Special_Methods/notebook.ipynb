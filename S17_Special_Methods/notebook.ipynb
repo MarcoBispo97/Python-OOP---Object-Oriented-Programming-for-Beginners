{
 "cells": [
  {
   "cell_type": "markdown",
   "id": "6f300639",
   "metadata": {},
   "source": [
    "Python Special (Dunder) Methods\n",
    "In Python, special methods are a set of predefined methods that you can use to enrich your classes. They are easily recognizable because their names have leading and trailing double underscores, such as __init__ or __add__. They are often called \"dunder\" methods, which is short for \"double underscore\".\n",
    "\n",
    "Common Examples\n",
    "Here are some common special methods:\n",
    "\n",
    "__add__(self, other): Implements addition (+).\n",
    "__str__(self): Called by str() and print() to get a user-friendly string representation of an object.\n",
    "__repr__(self): Called by repr() to get an unambiguous, developer-friendly string representation of an object.\n",
    "__len__(self): Called by len() to get the length of an object.\n",
    "__bool__(self): Called for truth value testing (e.g., in an if statement).\n",
    "__eq__(self, other): Implements the equality operator (==).\n",
    "__lt__(self, other): Implements the less-than operator (<).\n",
    "__sizeof__(self): Called by sys.getsizeof() to get the size of an object in bytes.\n",
    "Indirect Invocation\n",
    "A key characteristic of special methods is that they are not meant to be called directly. Instead, Python calls them indirectly when you use a specific syntax or built-in function.\n",
    "\n",
    "For example, when you use the + operator, Python calls the __add__ method behind the scenes.\n",
    "5 + 6 --> __add__()\n",
    "(5)__add__(6)\n",
    "\n",
    "print(5+6)\n",
    "11\n",
    "\n",
    "print((5).__add__(6))\n",
    "11\n",
    "\n",
    "result = 5+6\n",
    "print(result)\n",
    "11\n",
    "\n",
    "result = (5).__add__(6)\n",
    "print(result)\n",
    "11\n",
    "\n",
    "A functional difference between special methods and common methods is that special methods can be called indirectly when we use a special syntax (such as arithmetic operations, subscripting, and slicing).\n",
    "\n",
    "In Python, the names of special methods have...\n"
   ]
  },
  {
   "cell_type": "markdown",
   "id": "d0f21b67",
   "metadata": {},
   "source": [
    "# __str__"
   ]
  },
  {
   "cell_type": "code",
   "execution_count": null,
   "id": "e58c1ff0",
   "metadata": {},
   "outputs": [],
   "source": []
  },
  {
   "cell_type": "code",
   "execution_count": null,
   "id": "700ac749",
   "metadata": {},
   "outputs": [],
   "source": []
  }
 ],
 "metadata": {
  "kernelspec": {
   "display_name": "venv",
   "language": "python",
   "name": "python3"
  },
  "language_info": {
   "name": "python",
   "version": "3.11.13"
  }
 },
 "nbformat": 4,
 "nbformat_minor": 5
}
