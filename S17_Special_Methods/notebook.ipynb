{
 "cells": [
  {
   "cell_type": "markdown",
   "id": "6f300639",
   "metadata": {},
   "source": [
    "Python Special (Dunder) Methods\n",
    "In Python, special methods are a set of predefined methods that you can use to enrich your classes. They are easily recognizable because their names have leading and trailing double underscores, such as __init__ or __add__. They are often called \"dunder\" methods, which is short for \"double underscore\".\n",
    "\n",
    "Common Examples\n",
    "Here are some common special methods:\n",
    "\n",
    "__add__(self, other): Implements addition (+).\n",
    "__str__(self): Called by str() and print() to get a user-friendly string representation of an object.\n",
    "__repr__(self): Called by repr() to get an unambiguous, developer-friendly string representation of an object.\n",
    "__len__(self): Called by len() to get the length of an object.\n",
    "__bool__(self): Called for truth value testing (e.g., in an if statement).\n",
    "__eq__(self, other): Implements the equality operator (==).\n",
    "__lt__(self, other): Implements the less-than operator (<).\n",
    "__sizeof__(self): Called by sys.getsizeof() to get the size of an object in bytes.\n",
    "Indirect Invocation\n",
    "A key characteristic of special methods is that they are not meant to be called directly. Instead, Python calls them indirectly when you use a specific syntax or built-in function.\n",
    "\n",
    "For example, when you use the + operator, Python calls the __add__ method behind the scenes.\n",
    "5 + 6 --> __add__()\n",
    "(5)__add__(6)\n",
    "\n",
    "print(5+6)\n",
    "11\n",
    "\n",
    "print((5).__add__(6))\n",
    "11\n",
    "\n",
    "result = 5+6\n",
    "print(result)\n",
    "11\n",
    "\n",
    "result = (5).__add__(6)\n",
    "print(result)\n",
    "11\n",
    "\n",
    "A functional difference between special methods and common methods is that special methods can be called indirectly when we use a special syntax (such as arithmetic operations, subscripting, and slicing).\n",
    "\n",
    "In Python, the names of special methods have...\n"
   ]
  },
  {
   "cell_type": "markdown",
   "id": "d0f21b67",
   "metadata": {},
   "source": [
    "# __str__"
   ]
  },
  {
   "cell_type": "markdown",
   "id": "9be2962e",
   "metadata": {},
   "source": [
    "# Dunder method is duble underscore\n"
   ]
  },
  {
   "cell_type": "markdown",
   "id": "aa31c898",
   "metadata": {},
   "source": [
    "# 222.__len__()"
   ]
  },
  {
   "cell_type": "code",
   "execution_count": null,
   "id": "e58c1ff0",
   "metadata": {},
   "outputs": [
    {
     "name": "stdout",
     "output_type": "stream",
     "text": [
      "13\n",
      "13\n",
      "5\n",
      "5\n"
     ]
    }
   ],
   "source": [
    "my_string = \"Hello, World!\"\n",
    "\n",
    "\n",
    "\n",
    "print(len(my_string))\n",
    "print(my_string.__len__())\n",
    "\n",
    "my_string = [1, 2, 3, 4, 5]\n",
    "print(len(my_string))\n",
    "print(my_string.__len__())"
   ]
  },
  {
   "cell_type": "code",
   "execution_count": 4,
   "id": "700ac749",
   "metadata": {},
   "outputs": [
    {
     "name": "stdout",
     "output_type": "stream",
     "text": [
      "4\n",
      "4\n",
      "2\n",
      "2\n"
     ]
    }
   ],
   "source": [
    "class Backpack:\n",
    "    def __init__(self, items):\n",
    "        self.items = []\n",
    "\n",
    "    def add_item(self, item):\n",
    "        self.items.append(item)\n",
    "\n",
    "    def remove_item(self, item):\n",
    "        if item in self.items:\n",
    "            self.items.remove(item)\n",
    "        else:\n",
    "            print(\"This item is not in the backpack\")\n",
    "\n",
    "    def __len__(self):\n",
    "        return len(self.items)\n",
    "\n",
    "my_backpack = Backpack([])\n",
    "my_backpack.add_item(\"Pen\")\n",
    "my_backpack.add_item(\"Notebook\")\n",
    "my_backpack.add_item(\"Water Bottle\")\n",
    "my_backpack.add_item(\"First Aid Kit\")\n",
    "print(len(my_backpack))\n",
    "print(my_backpack.__len__())\n",
    "my_backpack.remove_item(\"Notebook\")\n",
    "my_backpack.remove_item(\"Pen\")\n",
    "print(len(my_backpack))\n",
    "print(my_backpack.__len__())"
   ]
  },
  {
   "cell_type": "code",
   "execution_count": null,
   "id": "994c08c2",
   "metadata": {},
   "outputs": [
    {
     "data": {
      "text/plain": [
       "True"
      ]
     },
     "execution_count": 5,
     "metadata": {},
     "output_type": "execute_result"
    }
   ],
   "source": [
    "my_string = [1, 2, 3, 4, 5]\n",
    "len(my_string) == my_string.__len__()"
   ]
  },
  {
   "cell_type": "markdown",
   "id": "d0f1646e",
   "metadata": {},
   "source": [
    "# 223.__add()__\n",
    "\n",
    "x.__add(y)__"
   ]
  },
  {
   "cell_type": "code",
   "execution_count": 8,
   "id": "6d8a7c50",
   "metadata": {},
   "outputs": [
    {
     "name": "stdout",
     "output_type": "stream",
     "text": [
      "8\n",
      "8\n",
      "8\n"
     ]
    }
   ],
   "source": [
    "print(3+5)\n",
    "print(int.__add__(3, 5))\n",
    "print((3).__add__(5))"
   ]
  },
  {
   "cell_type": "code",
   "execution_count": 12,
   "id": "3394d16d",
   "metadata": {},
   "outputs": [
    {
     "data": {
      "text/plain": [
       "True"
      ]
     },
     "execution_count": 12,
     "metadata": {},
     "output_type": "execute_result"
    }
   ],
   "source": [
    "3+5 == int.__add__(3, 5) == (3).__add__(5)"
   ]
  },
  {
   "cell_type": "code",
   "execution_count": 11,
   "id": "ef16ec02",
   "metadata": {},
   "outputs": [
    {
     "name": "stdout",
     "output_type": "stream",
     "text": [
      "Hello World\n",
      "Hello World\n",
      "Hello World\n"
     ]
    }
   ],
   "source": [
    "print(\"Hello\" + \" World\")\n",
    "print(str.__add__(\"Hello\", \" World\"))\n",
    "print((\"Hello\").__add__(\" World\")) "
   ]
  },
  {
   "cell_type": "code",
   "execution_count": 19,
   "id": "a78b2bee",
   "metadata": {},
   "outputs": [
    {
     "name": "stdout",
     "output_type": "stream",
     "text": [
      "Point(3, 4)\n",
      "Point(1, 2)\n",
      "Point(4, 6)\n"
     ]
    }
   ],
   "source": [
    "class Point2D:\n",
    "    def __init__(self, x, y):\n",
    "        self.x = x\n",
    "        self.y = y\n",
    "\n",
    "    def __add__(self, other):\n",
    "        new_x = self.x + other.x\n",
    "        new_y = self.y + other.y\n",
    "        return Point2D(new_x, new_y)\n",
    "\n",
    "    def __str__(self):\n",
    "        return f\"Point({self.x}, {self.y})\"\n",
    "\n",
    "pointA = Point2D(3, 4)\n",
    "print(pointA)\n",
    "pointB = Point2D(1, 2)\n",
    "print(pointB)\n",
    "pointC = pointA + pointB\n",
    "print(pointC)"
   ]
  },
  {
   "cell_type": "markdown",
   "id": "524b96a0",
   "metadata": {},
   "source": [
    "# 224 __getitem__()\n"
   ]
  },
  {
   "cell_type": "code",
   "execution_count": 25,
   "id": "20efd42e",
   "metadata": {},
   "outputs": [
    {
     "name": "stdout",
     "output_type": "stream",
     "text": [
      "a <--> a\n",
      "b <--> b\n",
      "c <--> c\n",
      "d <--> d\n",
      "e <--> e\n"
     ]
    }
   ],
   "source": [
    "# obj[index] = __getitem__(index)\n",
    "\n",
    "my_string = [\"a\",\"b\", \"c\", \"d\", \"e\"]\n",
    "for i in range(len(my_string)):\n",
    "    print(my_string[i],\"<-->\",my_string.__getitem__(i))"
   ]
  },
  {
   "cell_type": "code",
   "execution_count": null,
   "id": "44dc7ac0",
   "metadata": {},
   "outputs": [],
   "source": [
    "my_string = [\"a\",\"b\", \"c\", \"d\", \"e\"]\n",
    "for i in range(len(my_string)):\n",
    "    print(my_string[i], my_string.__getitem__(i))"
   ]
  },
  {
   "cell_type": "code",
   "execution_count": 27,
   "id": "7efecdac",
   "metadata": {},
   "outputs": [
    {
     "name": "stdout",
     "output_type": "stream",
     "text": [
      "['Book 1', 'Book 2']\n",
      "['Book 1', 'Book 2']\n",
      "['Book 3']\n"
     ]
    }
   ],
   "source": [
    "# Define a classe Bookshelf (Estante de Livros)\n",
    "class Bookshelf:\n",
    "    \n",
    "    # Método construtor: inicializa a estante com 3 prateleiras vazias\n",
    "    def __init__(self):\n",
    "        self.content = [[],  # Prateleira 0\n",
    "                        [],  # Prateleira 1\n",
    "                        []]  # Prateleira 2\n",
    "\n",
    "    # Método para adicionar um livro em uma prateleira específica\n",
    "    def add_book(self, book, location):\n",
    "        self.content[location].append(book)  # Adiciona o livro na prateleira indicada\n",
    "\n",
    "    # Método para remover um livro de uma prateleira específica\n",
    "    def take_book(self, book, location):\n",
    "        self.content[location].remove(book)  # Remove o livro da prateleira indicada\n",
    "\n",
    "    # Método especial que permite acessar a prateleira usando colchetes (indexação)\n",
    "    def __getitem__(self, location):\n",
    "        return self.content[location]  # Retorna a lista de livros da prateleira indicada\n",
    "\n",
    "# Cria uma nova estante de livros\n",
    "my_bookshelf = Bookshelf()\n",
    "\n",
    "# Adiciona \"Book 1\" à prateleira 0\n",
    "my_bookshelf.add_book(\"Book 1\", 0)\n",
    "\n",
    "# Adiciona \"Book 2\" à prateleira 0\n",
    "my_bookshelf.add_book(\"Book 2\", 0)\n",
    "\n",
    "# Adiciona \"Book 3\" à prateleira 1\n",
    "my_bookshelf.add_book(\"Book 3\", 1)\n",
    "\n",
    "# Adiciona \"Book 4\" à prateleira 2\n",
    "my_bookshelf.add_book(\"Book 4\", 2)\n",
    "\n",
    "# Imprime o conteúdo da prateleira 0 usando indexação\n",
    "print(my_bookshelf[0])  # Saída: ['Book 1', 'Book 2']\n",
    "\n",
    "# Imprime o conteúdo da prateleira 0 usando chamada direta do método __getitem__\n",
    "print(my_bookshelf.__getitem__(0))  # Saída: ['Book 1', 'Book 2']\n",
    "\n",
    "# Imprime o conteúdo da prateleira 1\n",
    "print(my_bookshelf[1])  # Saída: ['Book 3']\n",
    "   "
   ]
  },
  {
   "cell_type": "markdown",
   "id": "21dec68f",
   "metadata": {},
   "source": [
    "# __bool__()"
   ]
  },
  {
   "cell_type": "code",
   "execution_count": null,
   "id": "365794c2",
   "metadata": {},
   "outputs": [
    {
     "name": "stdout",
     "output_type": "stream",
     "text": [
      "1000\n",
      "1500\n"
     ]
    },
    {
     "data": {
      "text/plain": [
       "1300"
      ]
     },
     "execution_count": 28,
     "metadata": {},
     "output_type": "execute_result"
    }
   ],
   "source": [
    "class BankAccount:\n",
    "    def __init__(self, account_owner, account_number, initial_balance):\n",
    "        self.account_owner = account_owner\n",
    "        self.account_number = account_number\n",
    "        self.balance = initial_balance\n",
    "\n",
    "    def make_deposit(self, amount):\n",
    "        self.balance += amount\n",
    "        return self.balance\n",
    "\n",
    "    def make_withdrawal(self, amount):\n",
    "        if self.balance - amount >= 0:\n",
    "            self.balance -= amount\n",
    "            return self.balance\n",
    "        else:\n",
    "            print(\"Insufficient funds\")\n",
    "            return self.balance\n",
    "\n",
    "    def balance(self):\n",
    "        return self.balance\n",
    "    \n",
    "my_account = BankAccount(\"John Doe\", \"123456789\", 1000)\n",
    "print(my_account.balance())  # Saída: 1000\n",
    "my_account.make_deposit(500)\n",
    "print(my_account.balance())  # Saída: 1500\n",
    "my_account.make_withdrawal(200) \n",
    "\n",
    "my_account.balance = 0\n",
    "print(my_account.balance())  # Saída: 0"
   ]
  },
  {
   "cell_type": "code",
   "execution_count": null,
   "id": "93719541",
   "metadata": {},
   "outputs": [],
   "source": []
  }
 ],
 "metadata": {
  "kernelspec": {
   "display_name": "s17venv",
   "language": "python",
   "name": "python3"
  },
  "language_info": {
   "codemirror_mode": {
    "name": "ipython",
    "version": 3
   },
   "file_extension": ".py",
   "mimetype": "text/x-python",
   "name": "python",
   "nbconvert_exporter": "python",
   "pygments_lexer": "ipython3",
   "version": "3.11.0"
  }
 },
 "nbformat": 4,
 "nbformat_minor": 5
}
