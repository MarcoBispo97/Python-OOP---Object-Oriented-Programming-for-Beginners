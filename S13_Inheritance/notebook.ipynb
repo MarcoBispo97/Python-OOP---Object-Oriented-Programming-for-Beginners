{
 "cells": [
  {
   "cell_type": "markdown",
   "id": "30d2e02a",
   "metadata": {},
   "source": [
    "🌳 Inheritance: Building on What Exists\n",
    "Inheritance is a core concept in Object-Oriented Programming (OOP) 💻. It allows a new class (child/subclass) to take on the properties and methods of an existing class (parent/superclass).\n",
    "\n",
    "Think of it like this:\n",
    "\n",
    "A GoldenRetriever 🐕 is a Dog 🐶.\n",
    "A Dog 🐶 is an Animal 🐾.\n",
    "The GoldenRetriever inherits traits from Dog (like barking), and Dog inherits traits from Animal (like having a name or eating).\n",
    "\n",
    "✨ Key Benefits:\n",
    "♻️ Code Reusability: Write common code once in the parent class and reuse it in many child classes. No more copy-pasting!\n",
    "🧩 Extensibility: Easily add new, specific features to child classes without changing the parent class.\n",
    "🤝 \"Is-A\" Relationship: Clearly models real-world \"is-a\" relationships, making code more intuitive.\n",
    "🛠️ Polymorphism (often used with inheritance): Allows objects of different classes to respond to the same method call in their own specific way. (e.g., dog.speak() vs cat.speak())\n",
    "🐍 Python Example:\n",
    "Let's see it in action!\n",
    "\n",
    "python\n",
    "# Parent class (Superclass)\n",
    "class Animal:\n",
    "    def __init__(self, name):\n",
    "        self.name = name  # All animals have a name\n",
    "\n",
    "    def eat(self):\n",
    "        return f\"{self.name} is eating. 🍖\"\n",
    "\n",
    "    def speak(self):\n",
    "        # This is a general speak, child classes can make it specific\n",
    "        raise NotImplementedError(\"Subclass must implement this abstract method\")\n",
    "\n",
    "# Child class (Subclass)\n",
    "class Dog(Animal):  # 🐶 Dog inherits from Animal\n",
    "    def __init__(self, name, breed):\n",
    "        super().__init__(name)  # Call the Animal's __init__ to set the name\n",
    "        self.breed = breed      # Dogs also have a breed\n",
    "\n",
    "    def speak(self):  # Override the speak method\n",
    "        return f\"{self.name} says Woof! 🐕\"\n",
    "\n",
    "    def fetch(self):\n",
    "        return f\"{self.name} is fetching the ball! 🎾\"\n",
    "\n",
    "# Another Child class\n",
    "class Cat(Animal):  # 🐱 Cat inherits from Animal\n",
    "    def speak(self):  # Override the speak method\n",
    "        return f\"{self.name} says Meow! 🐈\"\n",
    "\n",
    "    def purr(self):\n",
    "        return f\"{self.name} is purring... rrrrr\"\n",
    "\n",
    "# Let's create some instances!\n",
    "my_dog = Dog(\"Buddy\", \"Golden Retriever\")\n",
    "my_cat = Cat(\"Whiskers\")\n",
    "\n",
    "print(my_dog.name)        # Output: Buddy (Inherited from Animal)\n",
    "print(my_dog.breed)       # Output: Golden Retriever (Specific to Dog)\n",
    "print(my_dog.eat())       # Output: Buddy is eating. 🍖 (Inherited from Animal)\n",
    "print(my_dog.speak())     # Output: Buddy says Woof! 🐕 (Overridden in Dog)\n",
    "print(my_dog.fetch())     # Output: Buddy is fetching the ball! 🎾 (Specific to Dog)\n",
    "\n",
    "print(\"\\n--- Now for the cat ---\")\n",
    "print(my_cat.name)        # Output: Whiskers\n",
    "print(my_cat.eat())       # Output: Whiskers is eating. 🍖\n",
    "print(my_cat.speak())     # Output: Whiskers says Meow! 🐈\n",
    "print(my_cat.purr())      # Output: Whiskers is purring... rrrrr\n",
    "🔍 Explanation of the Example:\n",
    "Animal Class (Parent 👑):\n",
    "\n",
    "Has an __init__ method to set a name.\n",
    "Has an eat method that all animals can do.\n",
    "Has a speak method, but it's marked with NotImplementedError. This means any child class should provide its own way to speak.\n",
    "Dog Class (Child 🐶):\n",
    "\n",
    "class Dog(Animal): means Dog inherits from Animal.\n",
    "Its __init__ uses super().__init__(name) to call the Animal's __init__ method. This is important for initializing the inherited parts (like name).\n",
    "It adds a new attribute breed.\n",
    "It overrides the speak method to make a \"Woof!\" sound.\n",
    "It adds a new method fetch, specific to dogs.\n",
    "Cat Class (Child 🐱):\n",
    "\n",
    "class Cat(Animal): means Cat also inherits from Animal.\n",
    "It overrides the speak method to make a \"Meow!\" sound.\n",
    "It adds a new method purr, specific to cats.\n",
    "When we create my_dog, it gets the name and eat functionality from Animal, but its speak is the dog-specific version. It also has its own breed attribute and fetch method. The same logic applies to my_cat!\n",
    "\n",
    "Inheritance helps organize code logically and efficiently, especially as programs grow larger and more complex. 🚀\n"
   ]
  },
  {
   "cell_type": "code",
   "execution_count": null,
   "id": "51cd2e9c",
   "metadata": {},
   "outputs": [],
   "source": []
  },
  {
   "cell_type": "code",
   "execution_count": 1,
   "id": "3c098d4e",
   "metadata": {},
   "outputs": [],
   "source": [
    "# Parent Class\n",
    "class Employee:\n",
    "    \n",
    "    salary = 100000\n",
    "    monthly_bonus = 500\n",
    " \n",
    "    def __init__(self, name, age, address, phone):\n",
    "        self.name = name\n",
    "        self.age = age\n",
    "        self.address = address\n",
    "        self.phone = phone\n",
    " \n",
    "# Inherits from Employee\n",
    "class Programmer(Employee):\n",
    "    def __init__(self, name, age, address, phone, programming_languages):\n",
    "        Employee.__init__(self, name, age, address, phone)\n",
    "        self.programming_languages = programming_languages \n",
    " \n",
    "# Inherits from Employee\n",
    "class Assistant(Employee):\n",
    "    def __init__(self, name, age, address, phone, bilingual):\n",
    "        Employee.__init__(self, name, age, address, phone)\n",
    "        self.bilingual = bilingual"
   ]
  },
  {
   "cell_type": "code",
   "execution_count": 2,
   "id": "0f1e8f4a",
   "metadata": {},
   "outputs": [
    {
     "name": "stdout",
     "output_type": "stream",
     "text": [
      "Isabel\n",
      "18\n",
      "100000\n",
      "500\n"
     ]
    }
   ],
   "source": [
    "programmer = Programmer(\"Isabel\", 45, \"5th avenue\", \"556-345-543\", [\"Java\"])\n",
    "assistant = Assistant(\"Jack\", 18, \"6th avenue\", \"452-355-234\", True)\n",
    " \n",
    "# Instance attributes\n",
    "print(programmer.name)\n",
    "print(assistant.age)\n",
    " \n",
    "# Class attributes\n",
    "print(programmer.salary)\n",
    "print(assistant.monthly_bonus)\n"
   ]
  },
  {
   "cell_type": "code",
   "execution_count": 4,
   "id": "89bbb477",
   "metadata": {},
   "outputs": [],
   "source": [
    "class Superclass:\n",
    "    pass\n",
    "\n",
    "class Subclass(Superclass):\n",
    "    pass\n"
   ]
  },
  {
   "cell_type": "code",
   "execution_count": null,
   "id": "35f4f6c5",
   "metadata": {},
   "outputs": [],
   "source": [
    "class Polygon:\n",
    "    pass\n",
    "\n",
    "class Triangle(Polygon):\n",
    "    pass\n",
    "\n",
    "class Square(Polygon):\n",
    "    pass"
   ]
  },
  {
   "cell_type": "code",
   "execution_count": 6,
   "id": "def6afd9",
   "metadata": {},
   "outputs": [
    {
     "name": "stdout",
     "output_type": "stream",
     "text": [
      "True\n"
     ]
    }
   ],
   "source": [
    "class Animal:\n",
    " \n",
    "    def __init__(self, age):\n",
    "        self.age = age\n",
    " \n",
    "class Dog(Animal):\n",
    " \n",
    "    def __init__(self, name, age):\n",
    "        Animal.__init__(self, age)\n",
    "        self.name = name\n",
    " \n",
    "# The function returns True because Dog is a subclass of Animal.\n",
    "print(issubclass(Dog, Animal))  # True"
   ]
  },
  {
   "cell_type": "markdown",
   "id": "23f19792",
   "metadata": {},
   "source": [
    "# Inherit Attribute with __init__()\n",
    "## If the subclass has its own _init_()\n",
    "## method, the attributes of the superclass are note inherited automatically"
   ]
  },
  {
   "cell_type": "code",
   "execution_count": 8,
   "id": "1c581754",
   "metadata": {},
   "outputs": [
    {
     "name": "stdout",
     "output_type": "stream",
     "text": [
      "3\n",
      "blue\n"
     ]
    }
   ],
   "source": [
    "class Polygon:\n",
    "    def __init__(self, num_sides, color):\n",
    "        self.num_sides = num_sides\n",
    "        self.color = color\n",
    "\n",
    "class Triangle(Polygon):\n",
    "    pass\n",
    "\n",
    "my_triangle = Triangle(3, \"blue\")\n",
    "print(my_triangle.num_sides)  # Output: 3\n",
    "print(my_triangle.color)       # Output: blue"
   ]
  },
  {
   "cell_type": "code",
   "execution_count": 9,
   "id": "cfe760dd",
   "metadata": {},
   "outputs": [
    {
     "ename": "AttributeError",
     "evalue": "'Triangle' object has no attribute 'num_sides'",
     "output_type": "error",
     "traceback": [
      "\u001b[0;31m---------------------------------------------------------------------------\u001b[0m",
      "\u001b[0;31mAttributeError\u001b[0m                            Traceback (most recent call last)",
      "Cell \u001b[0;32mIn[9], line 12\u001b[0m\n\u001b[1;32m      9\u001b[0m         \u001b[38;5;28mself\u001b[39m\u001b[38;5;241m.\u001b[39mheight \u001b[38;5;241m=\u001b[39m height\n\u001b[1;32m     11\u001b[0m my_triangle \u001b[38;5;241m=\u001b[39m Triangle(\u001b[38;5;241m3\u001b[39m, \u001b[38;5;124m\"\u001b[39m\u001b[38;5;124mblue\u001b[39m\u001b[38;5;124m\"\u001b[39m)\n\u001b[0;32m---> 12\u001b[0m \u001b[38;5;28mprint\u001b[39m(\u001b[43mmy_triangle\u001b[49m\u001b[38;5;241;43m.\u001b[39;49m\u001b[43mnum_sides\u001b[49m)  \u001b[38;5;66;03m# Output: 3\u001b[39;00m\n\u001b[1;32m     13\u001b[0m \u001b[38;5;28mprint\u001b[39m(my_triangle\u001b[38;5;241m.\u001b[39mcolor)       \u001b[38;5;66;03m# Output: blue\u001b[39;00m\n",
      "\u001b[0;31mAttributeError\u001b[0m: 'Triangle' object has no attribute 'num_sides'"
     ]
    }
   ],
   "source": [
    "class Polygon:\n",
    "    def __init__(self, num_sides, color):\n",
    "        self.num_sides = num_sides\n",
    "        self.color = color\n",
    "\n",
    "class Triangle(Polygon):\n",
    "    def __init__(self, base, height):\n",
    "        self.base = base\n",
    "        self.height = height\n",
    "\n",
    "my_triangle = Triangle(3, \"blue\")\n",
    "print(my_triangle.num_sides)  # Output: 3\n",
    "print(my_triangle.color)       # Output: blue"
   ]
  },
  {
   "cell_type": "code",
   "execution_count": 11,
   "id": "5c17f544",
   "metadata": {},
   "outputs": [
    {
     "name": "stdout",
     "output_type": "stream",
     "text": [
      "3\n",
      "blue\n",
      "5\n",
      "4\n"
     ]
    }
   ],
   "source": [
    "class Polygon:\n",
    "    def __init__(self, num_sides, color):\n",
    "        self.num_sides = num_sides\n",
    "        self.color = color\n",
    "\n",
    "class Triangle(Polygon):\n",
    "\n",
    "    NUM_SIDES = 3\n",
    "\n",
    "    def __init__(self, base, height, color):\n",
    "        Polygon.__init__(self, Triangle.NUM_SIDES, color)\n",
    "        self.base = base\n",
    "        self.height = height\n",
    "\n",
    "my_triangle = Triangle(5, 4, 'blue')\n",
    "print(my_triangle.num_sides)  # Output: 3\n",
    "print(my_triangle.color)       # Output: blue\n",
    "print(my_triangle.base)        # Output: 5\n",
    "print(my_triangle.height)      # Output: 4"
   ]
  },
  {
   "cell_type": "markdown",
   "id": "1d39e30f",
   "metadata": {},
   "source": [
    "# Super\n",
    "## super() to refer to the Superclass\n",
    "## super().__init__(name, age) == Dog.__init__(self, name, age)"
   ]
  },
  {
   "cell_type": "code",
   "execution_count": null,
   "id": "0b0da42a",
   "metadata": {},
   "outputs": [],
   "source": [
    "class Dog:\n",
    "\n",
    "    def __init__(self, name, age):\n",
    "        self.name = name\n",
    "        self.age = age\n",
    "\n",
    "\t\t\n",
    "class Poodle(Dog):\n",
    "\n",
    "    def __init__(self, name, age, code):\n",
    "        super().__init__(name, age)\n",
    "        self.code = code"
   ]
  },
  {
   "cell_type": "code",
   "execution_count": 19,
   "id": "76692a8d",
   "metadata": {},
   "outputs": [
    {
     "name": "stdout",
     "output_type": "stream",
     "text": [
      "Nora\n",
      "30000\n",
      "Pyhton\n"
     ]
    }
   ],
   "source": [
    "class Employee:\n",
    "    def __init__(self, full_name, salary):\n",
    "        self.full_name = full_name\n",
    "        self.salary = salary\n",
    "\n",
    "class Programmer(Employee):\n",
    "    def __init__(self, full_name, salary, programming_languages):\n",
    "        Employee.__init__(self, full_name, salary)\n",
    "        self.programming_languages = programming_languages\n",
    "\n",
    "nora = Programmer(\"Nora\", 30000, \"Pyhton\")\n",
    "print(nora.full_name)  # Output: Nora\n",
    "print(nora.salary)  # Output: 120000\n",
    "print(nora.programming_languages)  # Output: ['Python', 'JavaScript']   "
   ]
  },
  {
   "cell_type": "code",
   "execution_count": null,
   "id": "dad717b0",
   "metadata": {},
   "outputs": [],
   "source": [
    "class Character:\n",
    "    def __init(self, x, y, num_lives):\n",
    "        self.x = x\n",
    "        self.y = y\n",
    "        self.num_lives = num_lives\n",
    "\n",
    "class Player(Character):\n",
    "    INITIAL_X = 0\n",
    "    INITIAL_Y = 0\n",
    "    INITAL_NUM_LIVES = 10\n",
    "\n",
    "    def __init__(self, x, y, num_lives, name):\n",
    "        Character.__init__(self, PLAYER.INITIAL_X, PLAYER.INITIAL_Y, PLAYER.INITAL_NUM_LIVES)\n",
    "        self.score = score\n",
    "\n",
    "class Enemy(Character):\n",
    "    INITIAL_X = 10\n",
    "    INITIAL_Y = 10\n",
    "    INITAL_NUM_LIVES = 5\n",
    "\n",
    "    def __init__(self, x=15, y=15, num_lives=8, is_poisonous=False):\n",
    "        Character.__init__(self, ENEMY.INITIAL_X, ENEMY.INITIAL_Y, ENEMY.INITAL_NUM_LIVES)\n",
    "        self.is_poisonous = is_poisonous\n",
    "\n",
    "my_player = Player()\n",
    "\n",
    "print(my_player.score)  # Output: \n",
    "print(my_player.x)     # Output: 0\n",
    "print(my_player.y)     # Output: 0\n",
    "print(my_player.num_lives)  # Output: 10\n",
    "\n",
    "easy_enemy = Enemy(num_lives=1)\n",
    "hard_enemy = Enemy(num_lives=56, is_poisonous=True)\n",
    "\n",
    "print(hard_enemy.is_poisonous)  # Output: 10\n",
    "print(hard_enemy.x)  # Output: 10\n",
    "print(hard_enemy.y)  # Output: 10\n",
    "print(hard_enemy.num_lives)"
   ]
  }
 ],
 "metadata": {
  "kernelspec": {
   "display_name": "venv",
   "language": "python",
   "name": "python3"
  },
  "language_info": {
   "codemirror_mode": {
    "name": "ipython",
    "version": 3
   },
   "file_extension": ".py",
   "mimetype": "text/x-python",
   "name": "python",
   "nbconvert_exporter": "python",
   "pygments_lexer": "ipython3",
   "version": "3.10.12"
  }
 },
 "nbformat": 4,
 "nbformat_minor": 5
}
