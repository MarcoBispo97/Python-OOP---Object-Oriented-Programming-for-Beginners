{
 "cells": [
  {
   "cell_type": "markdown",
   "id": "e674a7ee",
   "metadata": {},
   "source": [
    "# 🏷️ Alias\n",
    "\n",
    "## 🧑 General Definition\n",
    "An **alias** is an additional name that a person may use besides their official or legal name.\n",
    "\n",
    "> 📌 **Example:**  \n",
    "> The writer Samuel Clemens is better known by his alias, **Mark Twain**.\n",
    "\n",
    "---\n",
    "\n",
    "## 💻 In Programming\n",
    "An **alias** happens when two or more variables point to the **same memory address**, meaning they refer to the **same object**.\n",
    "\n",
    "> 🔁 Any change made using one variable will be reflected in the other.\n",
    "\n",
    "> 🧪 **Example in Python:**\n",
    "```python\n",
    "a = [1, 2, 3]\n",
    "b = a  # b is now an alias of a\n",
    "b.append(4)\n",
    "print(a)  # Output: [1, 2, 3, 4] — 'a' was also changed!\n"
   ]
  },
  {
   "cell_type": "code",
   "execution_count": 1,
   "id": "2c3dfc8e",
   "metadata": {},
   "outputs": [
    {
     "name": "stdout",
     "output_type": "stream",
     "text": [
      "True\n"
     ]
    }
   ],
   "source": [
    "a = [1,2,3,4]\n",
    "b = a\n",
    "\n",
    "print(a is b)"
   ]
  },
  {
   "cell_type": "markdown",
   "id": "b177b3aa",
   "metadata": {},
   "source": [
    "# Same obj different names\n",
    "\n",
    "# differente Name, but Same Object !"
   ]
  },
  {
   "cell_type": "code",
   "execution_count": null,
   "id": "639ce246",
   "metadata": {},
   "outputs": [
    {
     "name": "stdout",
     "output_type": "stream",
     "text": [
      "True\n"
     ]
    }
   ],
   "source": [
    "a = [1,2,3,4]\n",
    "b = a\n",
    "c = b\n",
    "d = c\n",
    "\n",
    "print(a is b is c is d)"
   ]
  },
  {
   "cell_type": "code",
   "execution_count": 2,
   "id": "a47ac783",
   "metadata": {},
   "outputs": [
    {
     "name": "stdout",
     "output_type": "stream",
     "text": [
      "ID of my_dog: 140580100911120\n",
      "ID of best_friend: 140580100911120\n",
      "\n",
      "My dog's name is Rex and he is 6 years old.\n"
     ]
    }
   ],
   "source": [
    "class Dog:\n",
    "    def __init__(self, name, age):\n",
    "        self.name = name\n",
    "        self.age = age\n",
    "\n",
    "# Create an instance of the Dog class\n",
    "my_dog = Dog(\"Rex\", 5)\n",
    "\n",
    "# Create an alias for my_dog\n",
    "best_friend = my_dog\n",
    "\n",
    "# Now, both 'my_dog' and 'best_friend' refer to the same Dog object.\n",
    "# Let's check their memory addresses to confirm.\n",
    "print(f\"ID of my_dog: {id(my_dog)}\")\n",
    "print(f\"ID of best_friend: {id(best_friend)}\")\n",
    "\n",
    "# Let's change the dog's age using the 'best_friend' alias\n",
    "best_friend.age = 6\n",
    "\n",
    "# Now, let's see the age of the dog through the original 'my_dog' variable\n",
    "print(f\"\\nMy dog's name is {my_dog.name} and he is {my_dog.age} years old.\")"
   ]
  },
  {
   "cell_type": "code",
   "execution_count": null,
   "id": "ed0ad195",
   "metadata": {},
   "outputs": [],
   "source": [
    "id(my_dog) ==my_dog"
   ]
  },
  {
   "cell_type": "code",
   "execution_count": 3,
   "id": "de6cc48c",
   "metadata": {},
   "outputs": [
    {
     "name": "stdout",
     "output_type": "stream",
     "text": [
      "True\n",
      "False\n"
     ]
    }
   ],
   "source": [
    "class Circle:\n",
    "    def __init__(self, radius):\n",
    "        self.radius = radius\n",
    "        \n",
    "    def area(self):\n",
    "        return 3.14 * (self.radius ** 2)\n",
    "    \n",
    "my_circle = Circle(5)\n",
    "alias_circle = my_circle\n",
    "\n",
    "print(id(my_circle) == id(alias_circle))  # Should print True\n",
    "print(id(my_circle) is id(alias_circle))"
   ]
  },
  {
   "cell_type": "code",
   "execution_count": 4,
   "id": "04e6e005",
   "metadata": {},
   "outputs": [
    {
     "name": "stdout",
     "output_type": "stream",
     "text": [
      "Before:\n",
      "5\n",
      "5\n",
      "After:\n",
      "18\n",
      "18\n"
     ]
    }
   ],
   "source": [
    "class Circle:\n",
    "    def __init__(self, radius):\n",
    "        self.radius = radius\n",
    "        \n",
    "    def area(self):\n",
    "        return 3.14 * (self.radius ** 2)\n",
    "    \n",
    "my_circle = Circle(5)\n",
    "alias_circle = my_circle\n",
    "\n",
    "print('Before:')\n",
    "print(my_circle.radius)\n",
    "print(alias_circle.radius)\n",
    "my_circle.radius = 18\n",
    "\n",
    "print('After:')\n",
    "print(my_circle.radius)\n",
    "print(alias_circle.radius)"
   ]
  },
  {
   "cell_type": "code",
   "execution_count": 6,
   "id": "a2cda075",
   "metadata": {},
   "outputs": [
    {
     "name": "stdout",
     "output_type": "stream",
     "text": [
      "True\n"
     ]
    }
   ],
   "source": [
    "class Back_pack:\n",
    "    def __init__(self):\n",
    "        self._items = []  # Use a private attribute to store the items\n",
    "\n",
    "    @property\n",
    "    def items(self):\n",
    "        return self._items  # Access the private attribute\n",
    "\n",
    "    @items.setter\n",
    "    def items(self, value):\n",
    "        self._items = value  # Allow setting the private attribute if needed\n",
    "    \n",
    "my_backpack = Back_pack()\n",
    "your_backpack = my_backpack\n",
    "her_backpack = your_backpack\n",
    "\n",
    "print(my_backpack is your_backpack is her_backpack)  # Should print True"
   ]
  },
  {
   "cell_type": "markdown",
   "id": "bea5d389",
   "metadata": {},
   "source": [
    "# 🐍 Mutability and Immutability in Python 🧱\n",
    "\n",
    "## 🔄 Mutable Objects: The Shapeshifters!\n",
    "\n",
    "Objects whose internal state **can be changed** after they are created. Think of them like a whiteboard you can erase and rewrite on!\n",
    "\n",
    "-   **Definition**: A significant and basic alteration is possible. ✍️\n",
    "-   **Examples**:\n",
    "    -   📝 Lists (`[1, 2, 3]`) - You can add, remove, or change items.\n",
    "    -   🧩 Sets (`{1, 2, 3}`) - You can add or remove unique items.\n",
    "    -   🔑 Dictionaries (`{'key': 'value'}`) - You can add, remove, or change key-value pairs.\n",
    "\n",
    "## 🔒 Immutable Objects: Set in Stone!\n",
    "\n",
    "Objects whose internal state **cannot be modified** after they are created. Once made, they stay that way, like a published book!\n",
    "\n",
    "-   **Definition**: Cannot be modified once created. 🚫\n",
    "-   **Examples**:\n",
    "    -   🔢 Integers (`10`, `-5`)\n",
    "    -   💧 Floats (`3.14`, `-0.5`)\n",
    "    -   📜 Strings (`\"hello\"`, `'world'`)\n",
    "    -   🔗 Tuples (`(1, 2, 3)`) - Like lists, but you can't change them after creation.\n"
   ]
  },
  {
   "cell_type": "markdown",
   "id": "a19b9a57",
   "metadata": {},
   "source": []
  },
  {
   "cell_type": "code",
   "execution_count": 2,
   "id": "440e5f46",
   "metadata": {},
   "outputs": [
    {
     "name": "stdout",
     "output_type": "stream",
     "text": [
      "139698313111536\n"
     ]
    },
    {
     "ename": "TypeError",
     "evalue": "'tuple' object does not support item assignment",
     "output_type": "error",
     "traceback": [
      "\u001b[0;31m---------------------------------------------------------------------------\u001b[0m",
      "\u001b[0;31mTypeError\u001b[0m                                 Traceback (most recent call last)",
      "Cell \u001b[0;32mIn[2], line 3\u001b[0m\n\u001b[1;32m      1\u001b[0m a \u001b[38;5;241m=\u001b[39m (\u001b[38;5;241m7\u001b[39m,\u001b[38;5;241m3\u001b[39m,\u001b[38;5;241m2\u001b[39m,\u001b[38;5;241m1\u001b[39m)\n\u001b[1;32m      2\u001b[0m \u001b[38;5;28mprint\u001b[39m(\u001b[38;5;28mid\u001b[39m(a))\n\u001b[0;32m----> 3\u001b[0m \u001b[43ma\u001b[49m\u001b[43m[\u001b[49m\u001b[38;5;241;43m0\u001b[39;49m\u001b[43m]\u001b[49m \u001b[38;5;241m=\u001b[39m \u001b[38;5;241m5\u001b[39m\n\u001b[1;32m      4\u001b[0m \u001b[38;5;28mprint\u001b[39m(\u001b[38;5;28mid\u001b[39m(a))\n",
      "\u001b[0;31mTypeError\u001b[0m: 'tuple' object does not support item assignment"
     ]
    }
   ],
   "source": [
    "a = (7,3,2,1)\n",
    "print(id(a))\n",
    "a[0] = 5\n",
    "print(id(a))"
   ]
  },
  {
   "cell_type": "code",
   "execution_count": 1,
   "id": "aa7eda9a",
   "metadata": {},
   "outputs": [
    {
     "name": "stdout",
     "output_type": "stream",
     "text": [
      "139698311326080\n",
      "139698311326080\n"
     ]
    }
   ],
   "source": [
    "a = [7,3,2,1]\n",
    "print(id(a))\n",
    "a[0] = 5\n",
    "print(id(a))"
   ]
  },
  {
   "cell_type": "markdown",
   "id": "9059d2e3",
   "metadata": {},
   "source": [
    "# Advantagesn mutable objs, reuse, instead of making new copies, real_wold objs\n",
    "#Disjasvantagesn introduce more bugs unintentionally bugs"
   ]
  },
  {
   "cell_type": "code",
   "execution_count": null,
   "id": "30fb5084",
   "metadata": {},
   "outputs": [
    {
     "name": "stdout",
     "output_type": "stream",
     "text": [
      "Values Before: [-5, -6, -7, -8]\n",
      "Values After: [5, 6, 7, 8]\n"
     ]
    }
   ],
   "source": [
    "def add_absolute_values(seq):\n",
    "    for i in range(len(seq)):\n",
    "        seq[i] = abs(seq[i])\n",
    "    return sum(seq)\n",
    "\n",
    "values = [-5, -6, -7, -8]\n",
    "print('Values Before:', values)\n",
    "\n",
    "add_absolute_values(values)\n",
    "\n",
    "result = add_absolute_values(values)\n",
    "\n",
    "print('Values After:', values)"
   ]
  },
  {
   "cell_type": "markdown",
   "id": "fa065c3c",
   "metadata": {},
   "source": [
    "# Mutating Objects\n",
    " We might mutate an onbject unitentionnaly through an alias\n",
    "\n",
    " less efficient : You need to create a new copy of the object to make anu changes which can be costly"
   ]
  },
  {
   "cell_type": "code",
   "execution_count": 6,
   "id": "d7ab4788",
   "metadata": {},
   "outputs": [
    {
     "name": "stdout",
     "output_type": "stream",
     "text": [
      "[15, 2, 3, 4]\n",
      "[15, 2, 3, 4]\n"
     ]
    }
   ],
   "source": [
    "a = [1,2,3,4]\n",
    "b = a\n",
    "b[0] =15\n",
    "print(b)\n",
    "print(a)"
   ]
  },
  {
   "cell_type": "code",
   "execution_count": 8,
   "id": "579b9fc0",
   "metadata": {},
   "outputs": [
    {
     "name": "stdout",
     "output_type": "stream",
     "text": [
      "(1, 2, 3, 4)\n",
      "140453311886368\n",
      "(1, 2, 7, 3, 4)\n",
      "140453310985408\n"
     ]
    }
   ],
   "source": [
    "a = (1,2,3,4)\n",
    "print(a)\n",
    "print(id(a))\n",
    "a = a[:2] + (7,) + a[2:]\n",
    "print(a)\n",
    "print(id(a))"
   ]
  },
  {
   "cell_type": "code",
   "execution_count": 12,
   "id": "70d360c6",
   "metadata": {},
   "outputs": [
    {
     "name": "stdout",
     "output_type": "stream",
     "text": [
      "Before: {'a': 1, 'b': 2, 'c': 3, 'd': 4}\n"
     ]
    },
    {
     "ename": "RuntimeError",
     "evalue": "dictionary changed size during iteration",
     "output_type": "error",
     "traceback": [
      "\u001b[0;31m---------------------------------------------------------------------------\u001b[0m",
      "\u001b[0;31mRuntimeError\u001b[0m                              Traceback (most recent call last)",
      "Cell \u001b[0;32mIn[12], line 8\u001b[0m\n\u001b[1;32m      6\u001b[0m my_dictionary \u001b[38;5;241m=\u001b[39m {\u001b[38;5;124m'\u001b[39m\u001b[38;5;124ma\u001b[39m\u001b[38;5;124m'\u001b[39m: \u001b[38;5;241m1\u001b[39m, \u001b[38;5;124m'\u001b[39m\u001b[38;5;124mb\u001b[39m\u001b[38;5;124m'\u001b[39m: \u001b[38;5;241m2\u001b[39m, \u001b[38;5;124m'\u001b[39m\u001b[38;5;124mc\u001b[39m\u001b[38;5;124m'\u001b[39m: \u001b[38;5;241m3\u001b[39m, \u001b[38;5;124m'\u001b[39m\u001b[38;5;124md\u001b[39m\u001b[38;5;124m'\u001b[39m: \u001b[38;5;241m4\u001b[39m}\n\u001b[1;32m      7\u001b[0m \u001b[38;5;28mprint\u001b[39m(\u001b[38;5;124m\"\u001b[39m\u001b[38;5;124mBefore:\u001b[39m\u001b[38;5;124m\"\u001b[39m, my_dictionary)\n\u001b[0;32m----> 8\u001b[0m \u001b[43mremove_even_values\u001b[49m\u001b[43m(\u001b[49m\u001b[43mmy_dictionary\u001b[49m\u001b[43m)\u001b[49m\n\u001b[1;32m      9\u001b[0m \u001b[38;5;28mprint\u001b[39m(\u001b[38;5;124m\"\u001b[39m\u001b[38;5;124mAfter:\u001b[39m\u001b[38;5;124m\"\u001b[39m, my_dictionary)\n",
      "Cell \u001b[0;32mIn[12], line 2\u001b[0m, in \u001b[0;36mremove_even_values\u001b[0;34m(dictionary)\u001b[0m\n\u001b[1;32m      1\u001b[0m \u001b[38;5;28;01mdef\u001b[39;00m\u001b[38;5;250m \u001b[39m\u001b[38;5;21mremove_even_values\u001b[39m(dictionary):\n\u001b[0;32m----> 2\u001b[0m     \u001b[38;5;28;01mfor\u001b[39;00m key, value \u001b[38;5;129;01min\u001b[39;00m dictionary\u001b[38;5;241m.\u001b[39mitems():\n\u001b[1;32m      3\u001b[0m         \u001b[38;5;28;01mif\u001b[39;00m value \u001b[38;5;241m%\u001b[39m \u001b[38;5;241m2\u001b[39m \u001b[38;5;241m==\u001b[39m \u001b[38;5;241m0\u001b[39m:\n\u001b[1;32m      4\u001b[0m             \u001b[38;5;28;01mdel\u001b[39;00m dictionary[key]\n",
      "\u001b[0;31mRuntimeError\u001b[0m: dictionary changed size during iteration"
     ]
    }
   ],
   "source": [
    "def remove_even_values(dictionary):\n",
    "    for key, value in dictionary.items():\n",
    "        if value % 2 == 0:\n",
    "            del dictionary[key] # 🤔 Uh oh!\n",
    "\n",
    "my_dictionary = {'a': 1, 'b': 2, 'c': 3, 'd': 4}\n",
    "print(\"Before:\", my_dictionary)\n",
    "remove_even_values(my_dictionary)\n",
    "print(\"After:\", my_dictionary)\n",
    "\n"
   ]
  },
  {
   "cell_type": "code",
   "execution_count": 13,
   "id": "c0ad826a",
   "metadata": {},
   "outputs": [
    {
     "name": "stdout",
     "output_type": "stream",
     "text": [
      "Original Dictionary: {'a': 1, 'b': 2, 'c': 3, 'd': 4, 'e': 5, 'f': 6}\n",
      "After removing evens (v1): {'a': 1, 'c': 3, 'e': 5}\n"
     ]
    }
   ],
   "source": [
    "def remove_even_values_fixed_v1(dictionary):\n",
    "    keys_to_delete = []\n",
    "    for key, value in dictionary.items():\n",
    "        if value % 2 == 0:\n",
    "            keys_to_delete.append(key) # Collect keys first\n",
    "    \n",
    "    for key in keys_to_delete:\n",
    "        del dictionary[key] # Delete them after the first loop\n",
    "\n",
    "my_dictionary = {'a': 1, 'b': 2, 'c': 3, 'd': 4, 'e': 5, 'f': 6}\n",
    "print(\"Original Dictionary:\", my_dictionary)\n",
    "remove_even_values_fixed_v1(my_dictionary)\n",
    "print(\"After removing evens (v1):\", my_dictionary)\n",
    "# Expected Output:\n",
    "# Original Dictionary: {'a': 1, 'b': 2, 'c': 3, 'd': 4, 'e': 5, 'f': 6}\n",
    "# After removing evens (v1): {'a': 1, 'c': 3, 'e': 5}\n"
   ]
  },
  {
   "cell_type": "code",
   "execution_count": 14,
   "id": "7cbf43d8",
   "metadata": {},
   "outputs": [],
   "source": [
    "my_tuple = ({\"a\": 2, \"b\": 4}, {\"c\": 5, \"d\": 7})\n",
    "my_tuple[0][\"b\"] = 15"
   ]
  },
  {
   "cell_type": "markdown",
   "id": "57b64d5d",
   "metadata": {},
   "source": [
    "# 🧬 Cloning in Python: Why?\n",
    "\n",
    "In Python, when you assign a variable to another that holds a **mutable object** (like lists or dictionaries), you're *not* creating a new copy. 🙅‍♀️\n",
    "\n",
    "Instead, both variables point to the **exact same object** in memory. This is known as **aliasing**. 🏷️➡️📦⬅️🏷️\n",
    "\n",
    "Understanding aliasing is key to grasping why we sometimes need to explicitly clone objects to avoid unintended side effects!\n"
   ]
  },
  {
   "cell_type": "code",
   "execution_count": null,
   "id": "f3b6cbb7",
   "metadata": {},
   "outputs": [
    {
     "name": "stdout",
     "output_type": "stream",
     "text": [
      "[15, 2, 3, 4]\n",
      "[1, 2, 3, 4]\n"
     ]
    }
   ],
   "source": [
    "a = [1,2,3,4]\n",
    "b = a[:]\n",
    "b[0] = 15\n",
    "print(a)\n",
    "print(b)\n"
   ]
  },
  {
   "cell_type": "code",
   "execution_count": null,
   "id": "554a3d09",
   "metadata": {},
   "outputs": [
    {
     "name": "stdout",
     "output_type": "stream",
     "text": [
      "Before: {'a': 1, 'b': 2, 'c': 3, 'd': 4}\n",
      "After: {'a': 1, 'c': 3}\n",
      "Before: {'a': 1, 'b': 2, 'c': 3, 'd': 4}\n",
      "After: {'a': 1, 'c': 3}\n"
     ]
    }
   ],
   "source": [
    "def remove_even_values(dictionary):\n",
    "    for key, value in dictionary.copy().items():\n",
    "        if value % 2 == 0:\n",
    "            del dictionary[key] # 🤔 Uh oh!\n",
    "\n",
    "my_dictionary = {'a': 1, 'b': 2, 'c': 3, 'd': 4}\n",
    "print(\"Before:\", my_dictionary)\n",
    "remove_even_values(my_dictionary)\n",
    "print(\"After:\", my_dictionary)\n",
    "\n",
    "\n"
   ]
  },
  {
   "cell_type": "code",
   "execution_count": null,
   "id": "0f8d4617",
   "metadata": {},
   "outputs": [
    {
     "name": "stdout",
     "output_type": "stream",
     "text": [
      "Before: {'a': 1, 'b': 2, 'c': 3, 'd': 4}\n",
      "After: {'a': 1, 'c': 3}\n"
     ]
    }
   ],
   "source": []
  },
  {
   "cell_type": "markdown",
   "id": "aca61ada",
   "metadata": {},
   "source": []
  }
 ],
 "metadata": {
  "kernelspec": {
   "display_name": "venv",
   "language": "python",
   "name": "python3"
  },
  "language_info": {
   "codemirror_mode": {
    "name": "ipython",
    "version": 3
   },
   "file_extension": ".py",
   "mimetype": "text/x-python",
   "name": "python",
   "nbconvert_exporter": "python",
   "pygments_lexer": "ipython3",
   "version": "3.10.12"
  }
 },
 "nbformat": 4,
 "nbformat_minor": 5
}
