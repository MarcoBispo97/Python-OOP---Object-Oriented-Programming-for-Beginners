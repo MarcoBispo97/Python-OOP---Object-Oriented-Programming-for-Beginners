{
 "cells": [
  {
   "cell_type": "markdown",
   "id": "b55b4746",
   "metadata": {},
   "source": [
    "# In Python, everything is an object"
   ]
  },
  {
   "cell_type": "markdown",
   "id": "92a774b7",
   "metadata": {},
   "source": [
    "print(objetc)"
   ]
  },
  {
   "cell_type": "markdown",
   "id": "242b7be6",
   "metadata": {},
   "source": []
  },
  {
   "cell_type": "code",
   "execution_count": 1,
   "id": "f65ef40a",
   "metadata": {},
   "outputs": [
    {
     "name": "stdout",
     "output_type": "stream",
     "text": [
      "<class 'object'>\n"
     ]
    }
   ],
   "source": [
    "print(object)"
   ]
  },
  {
   "cell_type": "code",
   "execution_count": 2,
   "id": "a8d2ea7c",
   "metadata": {},
   "outputs": [
    {
     "name": "stdout",
     "output_type": "stream",
     "text": [
      "True\n"
     ]
    }
   ],
   "source": [
    "print(isinstance(object, type))"
   ]
  },
  {
   "cell_type": "code",
   "execution_count": 4,
   "id": "6105d78e",
   "metadata": {},
   "outputs": [
    {
     "name": "stdout",
     "output_type": "stream",
     "text": [
      "True\n"
     ]
    }
   ],
   "source": [
    "print(isinstance(5, object))"
   ]
  },
  {
   "cell_type": "code",
   "execution_count": 5,
   "id": "a6eaa102",
   "metadata": {},
   "outputs": [
    {
     "name": "stdout",
     "output_type": "stream",
     "text": [
      "True\n"
     ]
    }
   ],
   "source": [
    "print(isinstance([1,2,3,5], object))"
   ]
  },
  {
   "cell_type": "code",
   "execution_count": 6,
   "id": "e889fce2",
   "metadata": {},
   "outputs": [
    {
     "name": "stdout",
     "output_type": "stream",
     "text": [
      "True\n"
     ]
    }
   ],
   "source": [
    "print(isinstance({'Hello':'Word'}, object))"
   ]
  },
  {
   "cell_type": "code",
   "execution_count": 3,
   "id": "516eaf22",
   "metadata": {},
   "outputs": [
    {
     "name": "stdout",
     "output_type": "stream",
     "text": [
      "False\n"
     ]
    }
   ],
   "source": [
    "print(isinstance(5, type))"
   ]
  },
  {
   "cell_type": "code",
   "execution_count": 7,
   "id": "d39cf18e",
   "metadata": {},
   "outputs": [
    {
     "name": "stdout",
     "output_type": "stream",
     "text": [
      "True\n"
     ]
    }
   ],
   "source": [
    "def f(x):\n",
    "    return x*2\n",
    "\n",
    "print(isinstance(f, object))"
   ]
  },
  {
   "cell_type": "code",
   "execution_count": 8,
   "id": "c4f70b21",
   "metadata": {},
   "outputs": [
    {
     "name": "stdout",
     "output_type": "stream",
     "text": [
      "True\n"
     ]
    }
   ],
   "source": [
    "class Movie:\n",
    "    def __init__(self, title):\n",
    "        self.title = title\n",
    "\n",
    "    def __str__(self):\n",
    "        return self.title\n",
    "    \n",
    "print(isinstance(Movie, object))"
   ]
  },
  {
   "cell_type": "markdown",
   "id": "1c1ca40e",
   "metadata": {},
   "source": [
    "## Variables in Python store references to objects in memory\n",
    "## When there are no references to the object in the program, the object is deleted from memory"
   ]
  },
  {
   "cell_type": "markdown",
   "id": "549e5c46",
   "metadata": {},
   "source": [
    "# Gabage collection:\n",
    "O Garbage Collection (GC) em Python é um mecanismo automático de gerenciamento de memória que tem como objetivo liberar memória ocupada por objetos que não são mais utilizados no programa, evitando vazamentos de memória (memory leaks).\n",
    "\n",
    "🧠 Como funciona?\n",
    "Python usa principalmente um sistema de contagem de referências:\n",
    "\n",
    "Cada objeto tem um contador de quantas vezes ele está sendo referenciado.\n",
    "\n",
    "Quando esse contador chega a zero (ou seja, ninguém mais usa o objeto), a memória é automaticamente liberada.\n",
    "\n",
    "No entanto, esse sistema não é suficiente para detectar referências circulares (quando dois ou mais objetos referenciam uns aos outros, mas nenhum é usado fora desse ciclo). Por isso, o Python também tem um coletor de lixo (garbage collector) baseado em gerações.\n",
    "\n"
   ]
  },
  {
   "cell_type": "markdown",
   "id": "b370c54d",
   "metadata": {},
   "source": [
    "# 🔍 `id()` Function in Python\n",
    "\n",
    "The `id()` function returns the **unique identifier** (memory address) of an object in Python.\n",
    "\n",
    "---\n",
    "\n",
    "## 📖 Definition and Usage\n",
    "\n",
    "- `id(object)`  \n",
    "  Returns the **identity** of an object. This identity is unique and constant for the object during its lifetime.\n",
    "\n",
    "---\n",
    "\n",
    "## 💡 Key Points\n",
    "\n",
    "- Every object in Python has its own unique ID.\n",
    "- The ID is assigned when the object is created.\n",
    "- The returned ID is typically the **memory address** of the object (implementation-dependent).\n",
    "- IDs are **guaranteed to be unique** for different objects during their lifetime.\n",
    "\n",
    "---\n",
    "\n",
    "## 📌 Note on Small Integers\n",
    "\n",
    "In some Python implementations (like CPython), **integers from -5 to 256** are **preallocated** and **reused**.  \n",
    "Therefore, they may have the **same ID** across different parts of the code:\n",
    "\n",
    "```python\n",
    "a = 100\n",
    "b = 100\n",
    "print(id(a) == id(b))  # True\n",
    "\n",
    "\n"
   ]
  },
  {
   "cell_type": "markdown",
   "id": "dc69968c",
   "metadata": {},
   "source": []
  },
  {
   "cell_type": "code",
   "execution_count": 12,
   "id": "aa3b1950",
   "metadata": {},
   "outputs": [
    {
     "name": "stdout",
     "output_type": "stream",
     "text": [
      "139870009508368\n",
      "139869543169136\n",
      "139869542878080\n",
      "139869532708864\n"
     ]
    }
   ],
   "source": [
    "print(id(10))\n",
    "print(id('Hello World'))\n",
    "print(id([1,2,3,4,5]))\n",
    "print(id([1,2,3,4,5]))"
   ]
  },
  {
   "cell_type": "code",
   "execution_count": 13,
   "id": "f48364e0",
   "metadata": {},
   "outputs": [
    {
     "name": "stdout",
     "output_type": "stream",
     "text": [
      "139869542673296\n",
      "139869542667296\n"
     ]
    }
   ],
   "source": [
    "class Backpack:\n",
    "    def __init__(self):\n",
    "        self.items = []\n",
    "\n",
    "    @property\n",
    "    def item_count(self):\n",
    "        return self._items\n",
    "    \n",
    "my_backpack = Backpack()\n",
    "your_backpack = Backpack()\n",
    "\n",
    "print(id(my_backpack))\n",
    "print(id(your_backpack))"
   ]
  },
  {
   "cell_type": "code",
   "execution_count": 14,
   "id": "94d59633",
   "metadata": {},
   "outputs": [
    {
     "name": "stdout",
     "output_type": "stream",
     "text": [
      "139870009511984\n",
      "139870009511984\n"
     ]
    }
   ],
   "source": [
    "a = 123\n",
    "b = a\n",
    "print(id(a))\n",
    "print(id(b))"
   ]
  },
  {
   "cell_type": "markdown",
   "id": "15239973",
   "metadata": {},
   "source": [
    "# 👀 The `is` Operator in Python\n",
    "\n",
    "The `is` operator checks **whether two variables refer to the same object in memory**, not just if their values are equal.\n",
    "\n",
    "### Syntax\n",
    "```python\n",
    "obj1 is obj2\n"
   ]
  },
  {
   "cell_type": "code",
   "execution_count": 1,
   "id": "da5d6fba",
   "metadata": {},
   "outputs": [
    {
     "name": "stdout",
     "output_type": "stream",
     "text": [
      "True\n"
     ]
    }
   ],
   "source": [
    "a = 321\n",
    "b = a\n",
    "print(a is b)"
   ]
  },
  {
   "cell_type": "code",
   "execution_count": 4,
   "id": "4707a6f6",
   "metadata": {},
   "outputs": [
    {
     "name": "stdout",
     "output_type": "stream",
     "text": [
      "True\n",
      "False\n",
      "a id: 139911046721808\n",
      "b id: 139911046721616\n"
     ]
    }
   ],
   "source": [
    "a = 321\n",
    "b = 321\n",
    "print( a == b)\n",
    "print(a is b)\n",
    "print('a id:',id(a))\n",
    "print('b id:',id(b))"
   ]
  },
  {
   "cell_type": "code",
   "execution_count": 5,
   "id": "c1f62f4b",
   "metadata": {},
   "outputs": [
    {
     "name": "stdout",
     "output_type": "stream",
     "text": [
      "True\n",
      "False\n",
      "a id: 139911045888000\n",
      "b id: 139911045885952\n"
     ]
    }
   ],
   "source": [
    "a = [1,2,3,4]\n",
    "b = [1,2,3,4]\n",
    "print( a == b)\n",
    "print(a is b)\n",
    "print('a id:',id(a))\n",
    "print('b id:',id(b))"
   ]
  },
  {
   "cell_type": "code",
   "execution_count": 6,
   "id": "5b58c2cc",
   "metadata": {},
   "outputs": [
    {
     "name": "stdout",
     "output_type": "stream",
     "text": [
      "True\n",
      "True\n",
      "a id: 139911160037744\n",
      "b id: 139911160037744\n"
     ]
    }
   ],
   "source": [
    "a = 5\n",
    "b = 5\n",
    "print(a == b)\n",
    "print(a is b)\n",
    "print('a id:',id(a))\n",
    "print('b id:',id(b))"
   ]
  },
  {
   "cell_type": "code",
   "execution_count": 7,
   "id": "b4d739c0",
   "metadata": {},
   "outputs": [
    {
     "name": "stdout",
     "output_type": "stream",
     "text": [
      "True\n",
      "False\n",
      "a id: 139911046722224\n",
      "b id: 139911046721808\n"
     ]
    }
   ],
   "source": [
    "a = 219813829032\n",
    "b = 219813829032\n",
    "print(a == b)\n",
    "print(a is b)\n",
    "print('a id:',id(a))\n",
    "print('b id:',id(b))"
   ]
  },
  {
   "cell_type": "code",
   "execution_count": 8,
   "id": "cc174e64",
   "metadata": {},
   "outputs": [
    {
     "name": "stdout",
     "output_type": "stream",
     "text": [
      "True\n",
      "False\n",
      "a id: 139911046719728\n",
      "b id: 139911046721552\n"
     ]
    }
   ],
   "source": [
    "a = -6\n",
    "b = -6\n",
    "print(a == b)\n",
    "print(a is b)\n",
    "print('a id:',id(a))\n",
    "print('b id:',id(b))"
   ]
  },
  {
   "cell_type": "code",
   "execution_count": 9,
   "id": "fe448375",
   "metadata": {},
   "outputs": [
    {
     "name": "stdout",
     "output_type": "stream",
     "text": [
      "True\n",
      "False\n",
      "a id: 139911045987184\n",
      "b id: 139911045983728\n"
     ]
    }
   ],
   "source": [
    "a = 'Hello World'\n",
    "b = 'Hello World'\n",
    "print(a == b)\n",
    "print(a is b)\n",
    "print('a id:',id(a))\n",
    "print('b id:',id(b))"
   ]
  },
  {
   "cell_type": "code",
   "execution_count": 10,
   "id": "9035d12d",
   "metadata": {},
   "outputs": [
    {
     "name": "stdout",
     "output_type": "stream",
     "text": [
      "True\n",
      "False\n",
      "a id: 139911046718096\n",
      "b id: 139911046716816\n"
     ]
    }
   ],
   "source": [
    "a = 265\n",
    "b = 265\n",
    "print(a == b)\n",
    "print(a is b)\n",
    "print('a id:',id(a))\n",
    "print('b id:',id(b))"
   ]
  },
  {
   "cell_type": "code",
   "execution_count": 11,
   "id": "40523607",
   "metadata": {},
   "outputs": [
    {
     "name": "stdout",
     "output_type": "stream",
     "text": [
      "True\n",
      "True\n",
      "a id: 139911160043984\n",
      "b id: 139911160043984\n"
     ]
    }
   ],
   "source": [
    "a = 200\n",
    "b = 200\n",
    "print(a == b)\n",
    "print(a is b)\n",
    "print('a id:',id(a))\n",
    "print('b id:',id(b))"
   ]
  },
  {
   "cell_type": "code",
   "execution_count": 12,
   "id": "b3b8a0c4",
   "metadata": {},
   "outputs": [
    {
     "name": "stdout",
     "output_type": "stream",
     "text": [
      "True\n",
      "True\n"
     ]
    }
   ],
   "source": [
    "a = 'Hi'\n",
    "b = 'Hi'\n",
    "c = 'Hi'\n",
    "d = 'Hi'\n",
    "print(a == b == c == d)\n",
    "print(a is b is c is d)"
   ]
  },
  {
   "cell_type": "code",
   "execution_count": 13,
   "id": "9e940e48",
   "metadata": {},
   "outputs": [
    {
     "name": "stdout",
     "output_type": "stream",
     "text": [
      "False\n"
     ]
    }
   ],
   "source": [
    "string_1 = \"Hello, World!\"\n",
    "string_2 = \"Hello, World!\"\n",
    " \n",
    "print(string_1 is string_2)"
   ]
  },
  {
   "cell_type": "markdown",
   "id": "6d94cdf6",
   "metadata": {},
   "source": [
    "# 🧠 Python Memory Management: `id()` and `is` Operator\n",
    "\n",
    "## 🔸 How Objects Are Stored in Memory\n",
    "\n",
    "In Python, **everything is an object** — numbers, strings, lists, even functions and classes.\n",
    "\n",
    "When you create an object, Python stores it in memory. Each object has a unique **identifier** that can be accessed using the built-in `id()` function.\n",
    "\n",
    "### 🔍 Example:\n",
    "\n",
    "```python\n",
    "x = 42\n",
    "print(id(x))  # Outputs a unique identifier (memory address) for the object 42\n",
    "\n"
   ]
  },
  {
   "cell_type": "code",
   "execution_count": 15,
   "id": "12b2b76a",
   "metadata": {},
   "outputs": [
    {
     "name": "stdout",
     "output_type": "stream",
     "text": [
      "Outside the function: 139911045758016\n",
      "Inside the function:\n",
      "139911045758016\n",
      "1 139911160037616\n",
      "2 139911160037648\n",
      "3 139911160037680\n"
     ]
    }
   ],
   "source": [
    "my_list = [1, 2, 3]\n",
    "\n",
    "def print_data(sequence):\n",
    "    print(\"Inside the function:\")\n",
    "    print(id(sequence))\n",
    "    for elem in sequence:\n",
    "        print(elem, id(elem))\n",
    "\n",
    "print((\"Outside the function:\"), id(my_list))\n",
    "print_data(my_list)\n",
    "    "
   ]
  },
  {
   "cell_type": "code",
   "execution_count": 17,
   "id": "56adbf4c",
   "metadata": {},
   "outputs": [
    {
     "name": "stdout",
     "output_type": "stream",
     "text": [
      "Outside the function: 139911045579904\n",
      "Inside the function:\n",
      "139911045579904\n",
      "2 139911160037648\n",
      "4 139911160037712\n",
      "6 139911160037776\n"
     ]
    }
   ],
   "source": [
    "my_list = [1, 2, 3]\n",
    "\n",
    "def multiply_by_two(sequence):\n",
    "    print(\"Inside the function:\")\n",
    "    print(id(sequence))\n",
    "    for i in range(len(sequence)):\n",
    "        sequence[i] *= 2\n",
    "        print(sequence[i], id(sequence[i]))\n",
    "\n",
    "print((\"Outside the function:\"), id(my_list))\n",
    "multiply_by_two(my_list)"
   ]
  },
  {
   "cell_type": "code",
   "execution_count": null,
   "id": "c8be2acf",
   "metadata": {},
   "outputs": [],
   "source": [
    "def find_total(sales):\n",
    "    total = 0\n",
    "\n",
    "    for sale in sales:\n",
    "        total += sale.amount\n",
    "\n",
    "    return total\n",
    "\n",
    "\n"
   ]
  },
  {
   "cell_type": "code",
   "execution_count": 23,
   "id": "dd0a9e3e",
   "metadata": {},
   "outputs": [
    {
     "name": "stdout",
     "output_type": "stream",
     "text": [
      "139911046072512 139911045618928 139911045622096 139911045625072\n",
      "600 139911046719920\n"
     ]
    }
   ],
   "source": [
    "class Sale:\n",
    "    def __init__(self, amount):\n",
    "        self.amount = amount\n",
    "\n",
    "def find_total(sales):\n",
    "    total = 0\n",
    "\n",
    "    for sale in sales:\n",
    "        total += sale.amount\n",
    "\n",
    "    return total    \n",
    "\n",
    "january_sales = [\n",
    "    Sale(100),\n",
    "    Sale(200),\n",
    "    Sale(300)\n",
    "]\n",
    "print(id(january_sales), id(january_sales[0]), id(january_sales[1]), id(january_sales[2]))\n",
    "print(find_total(january_sales), id(find_total(january_sales)))"
   ]
  },
  {
   "cell_type": "code",
   "execution_count": 24,
   "id": "4f179cee",
   "metadata": {},
   "outputs": [
    {
     "name": "stdout",
     "output_type": "stream",
     "text": [
      "False\n"
     ]
    }
   ],
   "source": [
    "class Building:\n",
    " \n",
    "    def __init__(self, num_floors, num_apartments, has_elevators):\n",
    "        self.num_floors = num_floors\n",
    "        self.num_apartments = num_apartments\n",
    "        self.has_elevators = has_elevators\n",
    " \n",
    "\t\t\n",
    "a = Building(10, 20, True)\n",
    "b = Building(15, 15, True)\n",
    " \n",
    "# Output?\n",
    "print(a is b)"
   ]
  },
  {
   "cell_type": "code",
   "execution_count": 25,
   "id": "9f095844",
   "metadata": {},
   "outputs": [
    {
     "name": "stdout",
     "output_type": "stream",
     "text": [
      "False\n"
     ]
    }
   ],
   "source": [
    "class Building:\n",
    " \n",
    "    def __init__(self, num_floors):\n",
    "        self.num_floors = num_floors\n",
    "\n",
    " \n",
    "\t\t\n",
    "a = Building(10)\n",
    "b = Building(15)\n",
    " \n",
    "# Output?\n",
    "print(a is b)"
   ]
  }
 ],
 "metadata": {
  "kernelspec": {
   "display_name": "venv",
   "language": "python",
   "name": "python3"
  },
  "language_info": {
   "codemirror_mode": {
    "name": "ipython",
    "version": 3
   },
   "file_extension": ".py",
   "mimetype": "text/x-python",
   "name": "python",
   "nbconvert_exporter": "python",
   "pygments_lexer": "ipython3",
   "version": "3.10.12"
  }
 },
 "nbformat": 4,
 "nbformat_minor": 5
}
